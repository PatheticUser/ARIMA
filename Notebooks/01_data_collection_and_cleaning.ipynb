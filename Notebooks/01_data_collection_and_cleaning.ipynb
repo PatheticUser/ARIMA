{
 "cells": [
  {
   "cell_type": "markdown",
   "id": "c4943b0e",
   "metadata": {},
   "source": [
    "# Importing Libraries\n"
   ]
  },
  {
   "cell_type": "code",
   "execution_count": null,
   "id": "37373fd1",
   "metadata": {},
   "outputs": [],
   "source": [
    "import yfinance as yf\n",
    "import numpy as np\n",
    "import pandas as pd\n",
    "import plotly.express as px\n",
    "import matplotlib.pyplot as plt\n",
    "from pmdarima import auto_arima\n",
    "from statsmodels.tsa.arima.model import ARIMA\n",
    "from statsmodels.graphics.tsaplots import plot_acf, plot_pacf\n",
    "import statsmodels.tsa.stattools as ts\n",
    "from statsmodels.tsa.stattools import adfuller\n",
    "import statsmodels.api as sm\n",
    "import matplotlib.dates as mdates\n",
    "from sklearn.metrics import mean_squared_error\n",
    "import joblib\n",
    "import warnings\n",
    "warnings.filterwarnings(\"ignore\")\n",
    "from statsmodels.tools.sm_exceptions import ConvergenceWarning\n",
    "warnings.simplefilter('ignore', UserWarning)\n",
    "warnings.simplefilter('ignore', FutureWarning)\n",
    "warnings.simplefilter('ignore', ConvergenceWarning)"
   ]
  },
  {
   "cell_type": "markdown",
   "id": "5ab692f8",
   "metadata": {},
   "source": [
    "# Fetching Data"
   ]
  },
  {
   "cell_type": "code",
   "execution_count": 2,
   "id": "ea53a8ed",
   "metadata": {},
   "outputs": [
    {
     "name": "stdout",
     "output_type": "stream",
     "text": [
      "YF.download() has changed argument auto_adjust default to True\n"
     ]
    },
    {
     "name": "stderr",
     "output_type": "stream",
     "text": [
      "[*********************100%***********************]  1 of 1 completed\n"
     ]
    }
   ],
   "source": [
    "ticker = 'ETH-USD'\n",
    "start_date = '2017-01-01'\n",
    "end_date = '2024-12-31'\n",
    "\n",
    "eth_data = yf.download(ticker, start=start_date, end=end_date, interval='1d')\n",
    "eth_data.reset_index(inplace=True)\n",
    "\n",
    "eth_data.to_csv('../Data/eth_usd_2017_2024.csv', index=False)\n"
   ]
  },
  {
   "cell_type": "markdown",
   "id": "ace5eb2a",
   "metadata": {},
   "source": [
    "# Dataset Overview"
   ]
  },
  {
   "cell_type": "code",
   "execution_count": 3,
   "id": "466cda72",
   "metadata": {},
   "outputs": [
    {
     "data": {
      "text/plain": [
       "(2609, 6)"
      ]
     },
     "execution_count": 3,
     "metadata": {},
     "output_type": "execute_result"
    }
   ],
   "source": [
    "eth_data.shape"
   ]
  },
  {
   "cell_type": "code",
   "execution_count": 4,
   "id": "5fb0b750",
   "metadata": {},
   "outputs": [
    {
     "data": {
      "text/html": [
       "<div>\n",
       "<style scoped>\n",
       "    .dataframe tbody tr th:only-of-type {\n",
       "        vertical-align: middle;\n",
       "    }\n",
       "\n",
       "    .dataframe tbody tr th {\n",
       "        vertical-align: top;\n",
       "    }\n",
       "\n",
       "    .dataframe thead tr th {\n",
       "        text-align: left;\n",
       "    }\n",
       "</style>\n",
       "<table border=\"1\" class=\"dataframe\">\n",
       "  <thead>\n",
       "    <tr>\n",
       "      <th>Price</th>\n",
       "      <th>Date</th>\n",
       "      <th>Close</th>\n",
       "      <th>High</th>\n",
       "      <th>Low</th>\n",
       "      <th>Open</th>\n",
       "      <th>Volume</th>\n",
       "    </tr>\n",
       "    <tr>\n",
       "      <th>Ticker</th>\n",
       "      <th></th>\n",
       "      <th>ETH-USD</th>\n",
       "      <th>ETH-USD</th>\n",
       "      <th>ETH-USD</th>\n",
       "      <th>ETH-USD</th>\n",
       "      <th>ETH-USD</th>\n",
       "    </tr>\n",
       "  </thead>\n",
       "  <tbody>\n",
       "    <tr>\n",
       "      <th>0</th>\n",
       "      <td>2017-11-09</td>\n",
       "      <td>320.884003</td>\n",
       "      <td>329.451996</td>\n",
       "      <td>307.056000</td>\n",
       "      <td>308.644989</td>\n",
       "      <td>893249984</td>\n",
       "    </tr>\n",
       "    <tr>\n",
       "      <th>1</th>\n",
       "      <td>2017-11-10</td>\n",
       "      <td>299.252991</td>\n",
       "      <td>324.717987</td>\n",
       "      <td>294.541992</td>\n",
       "      <td>320.670990</td>\n",
       "      <td>885985984</td>\n",
       "    </tr>\n",
       "    <tr>\n",
       "      <th>2</th>\n",
       "      <td>2017-11-11</td>\n",
       "      <td>314.681000</td>\n",
       "      <td>319.453003</td>\n",
       "      <td>298.191986</td>\n",
       "      <td>298.585999</td>\n",
       "      <td>842300992</td>\n",
       "    </tr>\n",
       "    <tr>\n",
       "      <th>3</th>\n",
       "      <td>2017-11-12</td>\n",
       "      <td>307.907990</td>\n",
       "      <td>319.153015</td>\n",
       "      <td>298.513000</td>\n",
       "      <td>314.690002</td>\n",
       "      <td>1613479936</td>\n",
       "    </tr>\n",
       "    <tr>\n",
       "      <th>4</th>\n",
       "      <td>2017-11-13</td>\n",
       "      <td>316.716003</td>\n",
       "      <td>328.415009</td>\n",
       "      <td>307.024994</td>\n",
       "      <td>307.024994</td>\n",
       "      <td>1041889984</td>\n",
       "    </tr>\n",
       "  </tbody>\n",
       "</table>\n",
       "</div>"
      ],
      "text/plain": [
       "Price        Date       Close        High         Low        Open      Volume\n",
       "Ticker                ETH-USD     ETH-USD     ETH-USD     ETH-USD     ETH-USD\n",
       "0      2017-11-09  320.884003  329.451996  307.056000  308.644989   893249984\n",
       "1      2017-11-10  299.252991  324.717987  294.541992  320.670990   885985984\n",
       "2      2017-11-11  314.681000  319.453003  298.191986  298.585999   842300992\n",
       "3      2017-11-12  307.907990  319.153015  298.513000  314.690002  1613479936\n",
       "4      2017-11-13  316.716003  328.415009  307.024994  307.024994  1041889984"
      ]
     },
     "execution_count": 4,
     "metadata": {},
     "output_type": "execute_result"
    }
   ],
   "source": [
    "eth_data.head()"
   ]
  },
  {
   "cell_type": "code",
   "execution_count": 5,
   "id": "f92f0cf6",
   "metadata": {},
   "outputs": [
    {
     "data": {
      "text/html": [
       "<div>\n",
       "<style scoped>\n",
       "    .dataframe tbody tr th:only-of-type {\n",
       "        vertical-align: middle;\n",
       "    }\n",
       "\n",
       "    .dataframe tbody tr th {\n",
       "        vertical-align: top;\n",
       "    }\n",
       "\n",
       "    .dataframe thead tr th {\n",
       "        text-align: left;\n",
       "    }\n",
       "</style>\n",
       "<table border=\"1\" class=\"dataframe\">\n",
       "  <thead>\n",
       "    <tr>\n",
       "      <th>Price</th>\n",
       "      <th>Date</th>\n",
       "      <th>Close</th>\n",
       "      <th>High</th>\n",
       "      <th>Low</th>\n",
       "      <th>Open</th>\n",
       "      <th>Volume</th>\n",
       "    </tr>\n",
       "    <tr>\n",
       "      <th>Ticker</th>\n",
       "      <th></th>\n",
       "      <th>ETH-USD</th>\n",
       "      <th>ETH-USD</th>\n",
       "      <th>ETH-USD</th>\n",
       "      <th>ETH-USD</th>\n",
       "      <th>ETH-USD</th>\n",
       "    </tr>\n",
       "  </thead>\n",
       "  <tbody>\n",
       "    <tr>\n",
       "      <th>2604</th>\n",
       "      <td>2024-12-26</td>\n",
       "      <td>3331.225830</td>\n",
       "      <td>3512.604492</td>\n",
       "      <td>3302.306396</td>\n",
       "      <td>3493.304199</td>\n",
       "      <td>22247726776</td>\n",
       "    </tr>\n",
       "    <tr>\n",
       "      <th>2605</th>\n",
       "      <td>2024-12-27</td>\n",
       "      <td>3328.916992</td>\n",
       "      <td>3436.710693</td>\n",
       "      <td>3302.575684</td>\n",
       "      <td>3331.053711</td>\n",
       "      <td>24091627403</td>\n",
       "    </tr>\n",
       "    <tr>\n",
       "      <th>2606</th>\n",
       "      <td>2024-12-28</td>\n",
       "      <td>3397.902344</td>\n",
       "      <td>3419.920166</td>\n",
       "      <td>3318.033936</td>\n",
       "      <td>3328.774658</td>\n",
       "      <td>14305648523</td>\n",
       "    </tr>\n",
       "    <tr>\n",
       "      <th>2607</th>\n",
       "      <td>2024-12-29</td>\n",
       "      <td>3349.513428</td>\n",
       "      <td>3406.648438</td>\n",
       "      <td>3321.664795</td>\n",
       "      <td>3397.862549</td>\n",
       "      <td>13440907792</td>\n",
       "    </tr>\n",
       "    <tr>\n",
       "      <th>2608</th>\n",
       "      <td>2024-12-30</td>\n",
       "      <td>3356.392578</td>\n",
       "      <td>3428.527344</td>\n",
       "      <td>3298.804443</td>\n",
       "      <td>3349.585938</td>\n",
       "      <td>26981583962</td>\n",
       "    </tr>\n",
       "  </tbody>\n",
       "</table>\n",
       "</div>"
      ],
      "text/plain": [
       "Price        Date        Close         High          Low         Open  \\\n",
       "Ticker                 ETH-USD      ETH-USD      ETH-USD      ETH-USD   \n",
       "2604   2024-12-26  3331.225830  3512.604492  3302.306396  3493.304199   \n",
       "2605   2024-12-27  3328.916992  3436.710693  3302.575684  3331.053711   \n",
       "2606   2024-12-28  3397.902344  3419.920166  3318.033936  3328.774658   \n",
       "2607   2024-12-29  3349.513428  3406.648438  3321.664795  3397.862549   \n",
       "2608   2024-12-30  3356.392578  3428.527344  3298.804443  3349.585938   \n",
       "\n",
       "Price        Volume  \n",
       "Ticker      ETH-USD  \n",
       "2604    22247726776  \n",
       "2605    24091627403  \n",
       "2606    14305648523  \n",
       "2607    13440907792  \n",
       "2608    26981583962  "
      ]
     },
     "execution_count": 5,
     "metadata": {},
     "output_type": "execute_result"
    }
   ],
   "source": [
    "eth_data.tail()"
   ]
  },
  {
   "cell_type": "markdown",
   "id": "46cab42f",
   "metadata": {},
   "source": [
    "* **Time Covered:** Our data provides a detailed view of Ethereum's daily price and trading volume spanning from late 2017 to the end of 2024. This gives us a solid historical perspective.\n",
    "\n",
    "* **How Much Data:** We've worked with a substantial dataset containing approximately **2600** individual daily records.\n",
    "\n",
    "* **Average End-of-Day Price:** Across this entire period, the average closing price for Ethereum was around **$1490**. This gives us a central benchmark for the price.\n",
    "\n",
    "* **Price Swing:** The price of Ethereum has shown significant movement, ranging from a low of about **$84** to a high of over **$4800**. This highlights the inherent volatility of the cryptocurrency.\n",
    "\n",
    "* **Central Tendency:**\n",
    "    * The **average price** (mean) we calculated is approximately **$1490**.\n",
    "    * The **middle price** (median) of the daily prices is around **$1352**. This indicates that half the time the price was below this level and half the time above.\n",
    "\n",
    "* **Price Changeability:** Ethereum's price has fluctuated considerably from one day to the next. The standard deviation we found, around **$1226**, confirms this significant daily volatility."
   ]
  },
  {
   "cell_type": "code",
   "execution_count": 6,
   "id": "d81353f7",
   "metadata": {},
   "outputs": [
    {
     "name": "stdout",
     "output_type": "stream",
     "text": [
      "<class 'pandas.core.frame.DataFrame'>\n",
      "RangeIndex: 2609 entries, 0 to 2608\n",
      "Data columns (total 6 columns):\n",
      " #   Column             Non-Null Count  Dtype         \n",
      "---  ------             --------------  -----         \n",
      " 0   (Date, )           2609 non-null   datetime64[ns]\n",
      " 1   (Close, ETH-USD)   2609 non-null   float64       \n",
      " 2   (High, ETH-USD)    2609 non-null   float64       \n",
      " 3   (Low, ETH-USD)     2609 non-null   float64       \n",
      " 4   (Open, ETH-USD)    2609 non-null   float64       \n",
      " 5   (Volume, ETH-USD)  2609 non-null   int64         \n",
      "dtypes: datetime64[ns](1), float64(4), int64(1)\n",
      "memory usage: 122.4 KB\n"
     ]
    }
   ],
   "source": [
    "eth_data.info()"
   ]
  },
  {
   "cell_type": "code",
   "execution_count": 7,
   "id": "84e91528",
   "metadata": {},
   "outputs": [],
   "source": [
    "eth_data.describe()\n",
    "eth_data['Date'] = pd.to_datetime(eth_data['Date'])"
   ]
  },
  {
   "cell_type": "code",
   "execution_count": 8,
   "id": "a1d0126c",
   "metadata": {},
   "outputs": [
    {
     "data": {
      "text/html": [
       "<div>\n",
       "<style scoped>\n",
       "    .dataframe tbody tr th:only-of-type {\n",
       "        vertical-align: middle;\n",
       "    }\n",
       "\n",
       "    .dataframe tbody tr th {\n",
       "        vertical-align: top;\n",
       "    }\n",
       "\n",
       "    .dataframe thead th {\n",
       "        text-align: right;\n",
       "    }\n",
       "</style>\n",
       "<table border=\"1\" class=\"dataframe\">\n",
       "  <thead>\n",
       "    <tr style=\"text-align: right;\">\n",
       "      <th></th>\n",
       "      <th>Date</th>\n",
       "      <th>Close</th>\n",
       "      <th>High</th>\n",
       "      <th>Low</th>\n",
       "      <th>Open</th>\n",
       "      <th>Volume</th>\n",
       "    </tr>\n",
       "  </thead>\n",
       "  <tbody>\n",
       "    <tr>\n",
       "      <th>0</th>\n",
       "      <td>2017-11-09</td>\n",
       "      <td>320.884003</td>\n",
       "      <td>329.451996</td>\n",
       "      <td>307.056000</td>\n",
       "      <td>308.644989</td>\n",
       "      <td>893249984</td>\n",
       "    </tr>\n",
       "    <tr>\n",
       "      <th>1</th>\n",
       "      <td>2017-11-10</td>\n",
       "      <td>299.252991</td>\n",
       "      <td>324.717987</td>\n",
       "      <td>294.541992</td>\n",
       "      <td>320.670990</td>\n",
       "      <td>885985984</td>\n",
       "    </tr>\n",
       "    <tr>\n",
       "      <th>2</th>\n",
       "      <td>2017-11-11</td>\n",
       "      <td>314.681000</td>\n",
       "      <td>319.453003</td>\n",
       "      <td>298.191986</td>\n",
       "      <td>298.585999</td>\n",
       "      <td>842300992</td>\n",
       "    </tr>\n",
       "    <tr>\n",
       "      <th>3</th>\n",
       "      <td>2017-11-12</td>\n",
       "      <td>307.907990</td>\n",
       "      <td>319.153015</td>\n",
       "      <td>298.513000</td>\n",
       "      <td>314.690002</td>\n",
       "      <td>1613479936</td>\n",
       "    </tr>\n",
       "    <tr>\n",
       "      <th>4</th>\n",
       "      <td>2017-11-13</td>\n",
       "      <td>316.716003</td>\n",
       "      <td>328.415009</td>\n",
       "      <td>307.024994</td>\n",
       "      <td>307.024994</td>\n",
       "      <td>1041889984</td>\n",
       "    </tr>\n",
       "  </tbody>\n",
       "</table>\n",
       "</div>"
      ],
      "text/plain": [
       "        Date       Close        High         Low        Open      Volume\n",
       "0 2017-11-09  320.884003  329.451996  307.056000  308.644989   893249984\n",
       "1 2017-11-10  299.252991  324.717987  294.541992  320.670990   885985984\n",
       "2 2017-11-11  314.681000  319.453003  298.191986  298.585999   842300992\n",
       "3 2017-11-12  307.907990  319.153015  298.513000  314.690002  1613479936\n",
       "4 2017-11-13  316.716003  328.415009  307.024994  307.024994  1041889984"
      ]
     },
     "execution_count": 8,
     "metadata": {},
     "output_type": "execute_result"
    }
   ],
   "source": [
    "eth_data.columns = [col[0] if isinstance(col, tuple) else col for col in eth_data.columns] # Converted MultiIndex to a single index for improved data accessibility and readability <3\n",
    "eth_data.head()"
   ]
  },
  {
   "cell_type": "markdown",
   "id": "f868c0c9",
   "metadata": {},
   "source": [
    "# Exporting Cleaned Dataset"
   ]
  },
  {
   "cell_type": "code",
   "execution_count": 9,
   "id": "a7e62c4b",
   "metadata": {},
   "outputs": [],
   "source": [
    "# Assuming your cleaned df is called `eth_data`\n",
    "eth_data.to_csv(\"../Data/cleaned_eth_data.csv\", index=False)"
   ]
  }
 ],
 "metadata": {
  "kernelspec": {
   "display_name": "Python 3",
   "language": "python",
   "name": "python3"
  },
  "language_info": {
   "codemirror_mode": {
    "name": "ipython",
    "version": 3
   },
   "file_extension": ".py",
   "mimetype": "text/x-python",
   "name": "python",
   "nbconvert_exporter": "python",
   "pygments_lexer": "ipython3",
   "version": "3.11.6"
  }
 },
 "nbformat": 4,
 "nbformat_minor": 5
}
