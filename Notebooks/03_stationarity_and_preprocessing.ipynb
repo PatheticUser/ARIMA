{
 "cells": [
  {
   "cell_type": "markdown",
   "id": "32137b63",
   "metadata": {},
   "source": [
    "# Importing Libraries\n"
   ]
  },
  {
   "cell_type": "code",
   "execution_count": null,
   "id": "fb2fa8bd",
   "metadata": {},
   "outputs": [],
   "source": [
    "import yfinance as yf\n",
    "import numpy as np\n",
    "import pandas as pd\n",
    "import plotly.express as px\n",
    "import matplotlib.pyplot as plt\n",
    "from pmdarima import auto_arima\n",
    "from statsmodels.tsa.arima.model import ARIMA\n",
    "from statsmodels.graphics.tsaplots import plot_acf, plot_pacf\n",
    "import statsmodels.tsa.stattools as ts\n",
    "from statsmodels.tsa.stattools import adfuller\n",
    "import statsmodels.api as sm\n",
    "import matplotlib.dates as mdates\n",
    "from sklearn.metrics import mean_squared_error\n",
    "import joblib\n",
    "import warnings\n",
    "warnings.filterwarnings(\"ignore\")\n",
    "from statsmodels.tools.sm_exceptions import ConvergenceWarning\n",
    "warnings.simplefilter('ignore', UserWarning)\n",
    "warnings.simplefilter('ignore', FutureWarning)\n",
    "warnings.simplefilter('ignore', ConvergenceWarning)"
   ]
  },
  {
   "cell_type": "code",
   "execution_count": null,
   "id": "813a19a5",
   "metadata": {},
   "outputs": [],
   "source": [
    "eth_data = pd.read_csv(\"../Data/cleaned_eth_data.csv\") # Readinhg the data"
   ]
  },
  {
   "cell_type": "markdown",
   "id": "f86ac2e6",
   "metadata": {},
   "source": [
    "> For my first time series project, I researched common practices and found that an ADF test is often recommended. This is because ARIMA models rely on the assumption of stationarity in the data, and non-stationary data can lead to inaccurate predictions. Therefore, our first step will be to assess the stationarity of our time series using the ADF test.\n",
    ">\n",
    "> The **Augmented Dickey-Fuller (ADF) test** is a **statistical test used to check if a time series is stationary**.\n",
    ">\n",
    "> - **Stationarity** implies that the **mean, variance, and autocorrelation structure** of the series **do not change over time**.\n",
    "> - ARIMA models **require** the data to be **stationary** to generate reliable predictions."
   ]
  },
  {
   "cell_type": "code",
   "execution_count": null,
   "id": "03247e0b",
   "metadata": {},
   "outputs": [
    {
     "data": {
      "text/plain": [
       "(-1.3125917842695818,\n",
       " 0.6233920487943092,\n",
       " 17,\n",
       " 2591,\n",
       " {'1%': -3.4328763567780456,\n",
       "  '5%': -2.8626561482371278,\n",
       "  '10%': -2.5673641660121183},\n",
       " 29891.80503752715)"
      ]
     },
     "execution_count": 3,
     "metadata": {},
     "output_type": "execute_result"
    }
   ],
   "source": [
    "result = adfuller(eth_data['Close'])  \n"
   ]
  },
  {
   "cell_type": "markdown",
   "id": "5e5348cf",
   "metadata": {},
   "source": [
    "Based on the **Augmented Dickey-Fuller (ADF) test** results, we observe the following:\n",
    "\n",
    "- **ADF Statistic**: -1.4296  \n",
    "- **p-value**: 0.5680  \n",
    "- **Number of Lags Used**: 17  \n",
    "- **Number of Observations Used**: 2069  \n",
    "- **Critical Values**:\n",
    "  - 1%: -3.4335  \n",
    "  - 5%: -2.8629  \n",
    "  - 10%: -2.5675  \n",
    "\n",
    "The **p-value (0.5680)** is significantly higher than the standard significance level of **0.05**, which clearly indicates that we **fail to reject the null hypothesis** of the test.\n",
    "\n",
    "In simpler terms, this means that our time series — **Ethereum’s closing price** — is **not stationary**. The ADF test checks whether the data has a unit root (which would imply non-stationarity), and in our case, it suggests that the series does indeed have a unit root.\n",
    "\n",
    "Additionally, when comparing the ADF Statistic (-1.4296) to the critical values at the **1%, 5%, and 10%** levels, we see that it is **not more negative than any of them**. This further supports our conclusion that the series is not stationary.\n",
    "\n",
    "Since **ARIMA models require the time series to be stationary**, this gives us a clear next step: we’ll need to apply a **transformation** — most commonly **differencing** — to make our series stationary before fitting the model."
   ]
  },
  {
   "cell_type": "code",
   "execution_count": null,
   "id": "7aa1426a",
   "metadata": {},
   "outputs": [],
   "source": [
    "eth_data['Close_diff'] = eth_data['Close'].diff()\n",
    "\n",
    "eth_data = eth_data.dropna()"
   ]
  },
  {
   "cell_type": "code",
   "execution_count": 5,
   "id": "4eff4947",
   "metadata": {},
   "outputs": [
    {
     "data": {
      "text/plain": [
       "(-12.709864028128399,\n",
       " 1.0357520269181106e-23,\n",
       " 16,\n",
       " 2591,\n",
       " {'1%': -3.4328763567780456,\n",
       "  '5%': -2.8626561482371278,\n",
       "  '10%': -2.5673641660121183},\n",
       " 29880.88746806555)"
      ]
     },
     "execution_count": 5,
     "metadata": {},
     "output_type": "execute_result"
    }
   ],
   "source": [
    "result_diff = adfuller(eth_data['Close_diff'])\n",
    "result_diff"
   ]
  },
  {
   "cell_type": "markdown",
   "id": "422cf9e0",
   "metadata": {},
   "source": [
    "\n",
    "### ADF Test Results After Differencing:\n",
    "\n",
    "- **ADF Statistic**: -11.2231  \n",
    "- **p-value**: 1.99e-20  \n",
    "- **Critical Values**:  \n",
    "  - 1%: -3.4337  \n",
    "  - 5%: -2.8630  \n",
    "  - 10%: -2.5675  \n",
    "\n",
    "Since the ADF statistic is significantly lower than all the critical values and the p-value is far below 0.05, we reject the null hypothesis. This indicates that the differenced series is now stationary.\n",
    "\n",
    "Our next step will be to plot ACF & PACF plots, But I'm not familiar with them too, so lets learn together, what they are and then apply them before fitting the model(ARIMA):\n",
    "\n",
    "#### 1. **ACF – AutoCorrelation Function**\n",
    "- **What it does:** ACF shows how much the current value of your time series is related to its **previous values (lags)**.\n",
    "- **Think of it like:** \"How much does today’s price depend on yesterday's, day before yesterday’s, and so on?\"\n",
    "- **Use-case:** Helps in identifying the **MA (q)** part of ARIMA — the number of lagged forecast errors to include in the model.\n",
    "\n",
    "#### 2. **PACF – Partial AutoCorrelation Function**\n",
    "- **What it does:** PACF shows the **direct correlation** between the current value and its lag, **after removing the effects of intermediate lags**.\n",
    "- **Think of it like:** “If I already know yesterday’s and the day before yesterday’s influence, how much more does 3 days ago matter?”\n",
    "- **Use-case:** Helps in identifying the **AR (p)** part of ARIMA — the number of lagged actual observations to include.\n",
    "\n",
    "When we'll be building an ARIMA model, we need to figure out the values for **p, d, q**:\n",
    "\n",
    "| Parameter | Meaning                        | Determined by |\n",
    "|-----------|--------------------------------|---------------|\n",
    "| `p`       | Autoregressive lag             | PACF plot     |\n",
    "| `d`       | Differencing (you just did it) | ADF test      |\n",
    "| `q`       | Moving average lag             | ACF plot      |"
   ]
  },
  {
   "cell_type": "code",
   "execution_count": 6,
   "id": "658954e3",
   "metadata": {},
   "outputs": [
    {
     "data": {
      "image/png": "[encoded data removed]",
      "text/plain": [
       "<Figure size 640x480 with 1 Axes>"
      ]
     },
     "metadata": {},
     "output_type": "display_data"
    }
   ],
   "source": [
    "plot_acf(eth_data['Close_diff'], lags=50)\n",
    "plt.show()\n"
   ]
  },
  {
   "cell_type": "markdown",
   "id": "00647b1c",
   "metadata": {},
   "source": [
    "* **Significant Autocorrelation at Lags 1 and 2:** We can see clear spikes extending beyond the blue confidence interval at lag 1 and lag 2. This indicates that the differenced Ethereum price still has significant autocorrelation at these short-term lags.\n",
    "* **Gradual Decay:** After lag 2, the autocorrelation seems to decrease relatively quickly, with most of the subsequent lags falling within or very close to the confidence interval.\n",
    "* **No Long-Term Persistence:** The ACF doesn't show a slow, gradual decay over many lags, which is good. This suggests that the first differencing was likely sufficient to achieve stationarity in terms of the mean.\n",
    "\n",
    "**What this suggests for our ARIMA model order:**\n",
    "\n",
    "* **Potential AR (p) component:** The significant autocorrelation at the initial lags, especially lag 1 and 2, suggests that an autoregressive (AR) component might be needed in our model. The number of significant spikes in the ACF can sometimes give an initial indication of the order of the MA component, but in conjunction with the PACF, it helps determine the AR order as well.\n",
    "* **Potential MA (q) component:** The fact that the autocorrelation drops off after a few lags could also suggest the need for a moving average (MA) component. The lag at which the ACF becomes non-significant can sometimes indicate the order of the MA component.\n",
    "\n",
    "This ACF plot suggests that an ARIMA model with small values for `p` and `q` (likely around 1 or 2) might be appropriate. The significant autocorrelation at the first two lags indicates that the price change today is correlated with the price changes in the previous one or two days.\n"
   ]
  },
  {
   "cell_type": "code",
   "execution_count": 7,
   "id": "591fc2aa",
   "metadata": {},
   "outputs": [
    {
     "data": {
      "image/png": "[encoded data removed]",
      "text/plain": [
       "<Figure size 640x480 with 1 Axes>"
      ]
     },
     "metadata": {},
     "output_type": "display_data"
    }
   ],
   "source": [
    "plot_pacf(eth_data['Close_diff'], lags=50, method='ywm')\n",
    "plt.show()"
   ]
  },
  {
   "cell_type": "markdown",
   "id": "832ec46e",
   "metadata": {},
   "source": [
    "* **Significant Spike at Lag 1:** The PACF plot shows a very significant spike at lag 1 that extends well beyond the blue confidence interval. This strongly suggests a direct relationship between the current differenced price and the differenced price from the immediately preceding day.\n",
    "* **No Other Dominant Spikes:** After lag 1, the spikes in the PACF plot are much smaller and mostly fall within the confidence interval. There might be a few that slightly touch or exceed the boundary, but none are as prominent as the one at lag 1.\n",
    "\n",
    "**What this means for our ARIMA model order:**\n",
    "\n",
    "The PACF plot is particularly helpful in identifying the order of the autoregressive (AR) component (`p`). The significant spike at lag 1 suggests that an AR order of 1 might be appropriate. The lack of other dominant spikes after lag 1 indicates that higher-order AR terms might not be as necessary.\n",
    "\n",
    "**In summary:**\n",
    "\n",
    "Looking at both the ACF and PACF plots of the differenced series:\n",
    "\n",
    "* **ACF:** Showed significant autocorrelation at lags 1 and 2, with a relatively quick decay afterward. This suggested potential MA (q) components of order 1 or 2, and also hinted at AR components.\n",
    "* **PACF:** Showed a strong, significant spike only at lag 1, suggesting a primary AR (p) component of order 1.\n",
    "\n",
    "Based on the Autocorrelation Function (ACF) and Partial Autocorrelation Function (PACF) plots, a reasonable starting point for our ARIMA model might be an order of (1, 1, q), where q is likely 0, 1, or possibly 2. This aligns with the simpler ARIMA models we discussed earlier and the performance of the SARIMAX(1, 1, 0) model you shared.\n",
    "\n",
    "However, to systematically identify the optimal order, we will utilize the `auto_arima` function."
   ]
  },
  {
   "cell_type": "markdown",
   "id": "d2d789e3",
   "metadata": {},
   "source": [
    "# Data Split"
   ]
  },
  {
   "cell_type": "code",
   "execution_count": null,
   "id": "84e6085d",
   "metadata": {},
   "outputs": [
    {
     "name": "stdout",
     "output_type": "stream",
     "text": [
      "Size of training data: 2086\n",
      "Size of testing data: 522\n"
     ]
    }
   ],
   "source": [
    "train_size = int(len(eth_data) * 0.8)\n",
    "train_data = eth_data[:train_size]\n",
    "test_data = eth_data[train_size:]\n",
    "\n",
    "print(\"Size of training data:\", len(train_data))\n",
    "print(\"Size of testing data:\", len(test_data))"
   ]
  },
  {
   "cell_type": "markdown",
   "id": "2073b6f8",
   "metadata": {},
   "source": [
    "# Downloading Latest Data For Forecasting"
   ]
  },
  {
   "cell_type": "code",
   "execution_count": null,
   "id": "0bdd1f98",
   "metadata": {},
   "outputs": [
    {
     "name": "stdout",
     "output_type": "stream",
     "text": [
      "YF.download() has changed argument auto_adjust default to True\n"
     ]
    },
    {
     "name": "stderr",
     "output_type": "stream",
     "text": [
      "[*********************100%***********************]  1 of 1 completed"
     ]
    },
    {
     "name": "stdout",
     "output_type": "stream",
     "text": [
      "Price             Close         High          Low         Open       Volume\n",
      "Ticker          ETH-USD      ETH-USD      ETH-USD      ETH-USD      ETH-USD\n",
      "Date                                                                       \n",
      "2025-01-01  3353.504150  3366.531494  3310.255859  3332.406494  14195410493\n",
      "2025-01-02  3451.392578  3493.448242  3348.352051  3353.412109  22243574698\n",
      "2025-01-03  3605.009766  3627.055664  3421.831543  3451.680908  21877299255\n",
      "2025-01-04  3657.706787  3669.196777  3574.326904  3605.200684  16060610759\n",
      "2025-01-05  3634.103760  3673.812988  3594.616943  3657.743164  12830306908\n",
      "Price             Close         High          Low         Open       Volume\n",
      "Ticker          ETH-USD      ETH-USD      ETH-USD      ETH-USD      ETH-USD\n",
      "Date                                                                       \n",
      "2025-04-08  1472.553101  1617.339844  1447.610107  1554.932129  21315312919\n",
      "2025-04-09  1668.040039  1687.187988  1386.799316  1472.601440  39252195855\n",
      "2025-04-10  1522.518799  1669.394165  1474.914185  1668.201782  21379604307\n",
      "2025-04-11  1567.149780  1587.538574  1505.001953  1522.473022  14871838813\n",
      "2025-04-12  1643.528564  1666.017578  1546.819580  1567.155762  12110995013\n"
     ]
    },
    {
     "name": "stderr",
     "output_type": "stream",
     "text": [
      "\n"
     ]
    }
   ],
   "source": [
    "ticker = 'ETH-USD'\n",
    "start_date = '2025-01-01'\n",
    "end_date = '2025-04-13'  \n",
    "eth_data_2025 = yf.download(ticker, start=start_date, end=end_date, interval='1d')\n",
    "\n",
    "eth_data_2025.to_csv('../Data/eth_data_2025.csv')\n",
    "\n",
    "print(eth_data_2025.head())\n",
    "print(eth_data_2025.tail())"
   ]
  },
  {
   "cell_type": "code",
   "execution_count": null,
   "id": "d651cde6",
   "metadata": {},
   "outputs": [],
   "source": [
    "eth_data_2025.index = pd.to_datetime(eth_data_2025.index)\n",
    "test_data.index = pd.to_datetime(test_data.index)\n"
   ]
  },
  {
   "cell_type": "code",
   "execution_count": null,
   "id": "1da51d49",
   "metadata": {},
   "outputs": [],
   "source": [
    "merged_test_data = pd.concat([test_data, eth_data_2025]) # Merging latest data with the test data\n",
    "# Resetting the index to ensure proper datetime handling\n",
    "merged_test_data.sort_index(inplace=True)"
   ]
  },
  {
   "cell_type": "code",
   "execution_count": null,
   "id": "e353c19d",
   "metadata": {},
   "outputs": [
    {
     "name": "stdout",
     "output_type": "stream",
     "text": [
      "Size of training data: 2086\n",
      "Size of testing data: 624\n"
     ]
    }
   ],
   "source": [
    "if 'Date' in eth_data_2025.columns:\n",
    "    eth_data_2025.set_index('Date', inplace=True)\n",
    "\n",
    "if 'Date' not in test_data.index.names:\n",
    "    if 'Date' in test_data.columns:\n",
    "        test_data.set_index('Date', inplace=True)\n",
    "\n",
    "merged_test_data = pd.concat([test_data, eth_data_2025])\n",
    "\n",
    "merged_test_data.sort_index(inplace=True)\n",
    "print(\"Size of training data:\", len(train_data))\n",
    "print(\"Size of testing data:\", len(merged_test_data))"
   ]
  },
  {
   "cell_type": "code",
   "execution_count": null,
   "id": "7f2c200f",
   "metadata": {},
   "outputs": [],
   "source": [
    "train_data.to_csv(\"../Data/train.csv\") # Saving the training data\n",
    "merged_test_data.to_csv(\"../Data/test.csv\") # Saving the test data\n"
   ]
  }
 ],
 "metadata": {
  "kernelspec": {
   "display_name": "Python 3",
   "language": "python",
   "name": "python3"
  },
  "language_info": {
   "codemirror_mode": {
    "name": "ipython",
    "version": 3
   },
   "file_extension": ".py",
   "mimetype": "text/x-python",
   "name": "python",
   "nbconvert_exporter": "python",
   "pygments_lexer": "ipython3",
   "version": "3.11.6"
  }
 },
 "nbformat": 4,
 "nbformat_minor": 5
}
