{
 "cells": [
  {
   "cell_type": "code",
   "execution_count": 22,
   "id": "45bc82b9",
   "metadata": {},
   "outputs": [],
   "source": [
    "!pip install yfinance\n",
    "# add all installable libs"
   ]
  },
  {
   "cell_type": "markdown",
   "id": "a41ce18a",
   "metadata": {},
   "source": [
    "## Fetching data"
   ]
  },
  {
   "cell_type": "code",
   "execution_count": 23,
   "id": "5bf76a4c",
   "metadata": {},
   "outputs": [
    {
     "name": "stderr",
     "output_type": "stream",
     "text": [
      "[*********************100%***********************]  1 of 1 completed"
     ]
    },
    {
     "name": "stdout",
     "output_type": "stream",
     "text": [
      "Price        Date       Close        High         Low        Open      Volume\n",
      "Ticker                ETH-USD     ETH-USD     ETH-USD     ETH-USD     ETH-USD\n",
      "0      2017-11-09  320.884003  329.451996  307.056000  308.644989   893249984\n",
      "1      2017-11-10  299.252991  324.717987  294.541992  320.670990   885985984\n",
      "2      2017-11-11  314.681000  319.453003  298.191986  298.585999   842300992\n",
      "3      2017-11-12  307.907990  319.153015  298.513000  314.690002  1613479936\n",
      "4      2017-11-13  316.716003  328.415009  307.024994  307.024994  1041889984\n"
     ]
    },
    {
     "name": "stderr",
     "output_type": "stream",
     "text": [
      "\n"
     ]
    }
   ],
   "source": [
    "import yfinance as yf\n",
    "import pandas as pd\n",
    "\n",
    "# Define ticker and date range\n",
    "ticker = 'ETH-USD'\n",
    "start_date = '2017-01-01'\n",
    "end_date = '2024-12-31'\n",
    "\n",
    "# Download data\n",
    "eth_data = yf.download(ticker, start=start_date, end=end_date, interval='1d')\n",
    "\n",
    "# Reset index to make 'Date' a column\n",
    "eth_data.reset_index(inplace=True)\n",
    "\n",
    "# Display the first few rows\n",
    "print(eth_data.head())\n",
    "\n",
    "# Save to CSV for future use\n",
    "eth_data.to_csv('eth_usd_2017_2024.csv', index=False)"
   ]
  },
  {
   "cell_type": "code",
   "execution_count": 24,
   "id": "ae106fa8",
   "metadata": {},
   "outputs": [
    {
     "data": {
      "text/plain": [
       "(2609, 6)"
      ]
     },
     "execution_count": 24,
     "metadata": {},
     "output_type": "execute_result"
    }
   ],
   "source": [
    "eth_data.shape"
   ]
  },
  {
   "cell_type": "code",
   "execution_count": 25,
   "id": "549bd3d7",
   "metadata": {},
   "outputs": [
    {
     "name": "stdout",
     "output_type": "stream",
     "text": [
      "<class 'pandas.core.frame.DataFrame'>\n",
      "RangeIndex: 2609 entries, 0 to 2608\n",
      "Data columns (total 6 columns):\n",
      " #   Column             Non-Null Count  Dtype         \n",
      "---  ------             --------------  -----         \n",
      " 0   (Date, )           2609 non-null   datetime64[ns]\n",
      " 1   (Close, ETH-USD)   2609 non-null   float64       \n",
      " 2   (High, ETH-USD)    2609 non-null   float64       \n",
      " 3   (Low, ETH-USD)     2609 non-null   float64       \n",
      " 4   (Open, ETH-USD)    2609 non-null   float64       \n",
      " 5   (Volume, ETH-USD)  2609 non-null   int64         \n",
      "dtypes: datetime64[ns](1), float64(4), int64(1)\n",
      "memory usage: 122.4 KB\n"
     ]
    }
   ],
   "source": [
    "eth_data.info() \n",
    "# no null vals + no cat cols"
   ]
  },
  {
   "cell_type": "code",
   "execution_count": 26,
   "id": "8acfb1bf",
   "metadata": {},
   "outputs": [
    {
     "data": {
      "text/html": [
       "<div>\n",
       "<style scoped>\n",
       "    .dataframe tbody tr th:only-of-type {\n",
       "        vertical-align: middle;\n",
       "    }\n",
       "\n",
       "    .dataframe tbody tr th {\n",
       "        vertical-align: top;\n",
       "    }\n",
       "\n",
       "    .dataframe thead tr th {\n",
       "        text-align: left;\n",
       "    }\n",
       "</style>\n",
       "<table border=\"1\" class=\"dataframe\">\n",
       "  <thead>\n",
       "    <tr>\n",
       "      <th>Price</th>\n",
       "      <th>Date</th>\n",
       "      <th>Close</th>\n",
       "      <th>High</th>\n",
       "      <th>Low</th>\n",
       "      <th>Open</th>\n",
       "      <th>Volume</th>\n",
       "    </tr>\n",
       "    <tr>\n",
       "      <th>Ticker</th>\n",
       "      <th></th>\n",
       "      <th>ETH-USD</th>\n",
       "      <th>ETH-USD</th>\n",
       "      <th>ETH-USD</th>\n",
       "      <th>ETH-USD</th>\n",
       "      <th>ETH-USD</th>\n",
       "    </tr>\n",
       "  </thead>\n",
       "  <tbody>\n",
       "    <tr>\n",
       "      <th>0</th>\n",
       "      <td>2017-11-09</td>\n",
       "      <td>320.884003</td>\n",
       "      <td>329.451996</td>\n",
       "      <td>307.056000</td>\n",
       "      <td>308.644989</td>\n",
       "      <td>893249984</td>\n",
       "    </tr>\n",
       "    <tr>\n",
       "      <th>1</th>\n",
       "      <td>2017-11-10</td>\n",
       "      <td>299.252991</td>\n",
       "      <td>324.717987</td>\n",
       "      <td>294.541992</td>\n",
       "      <td>320.670990</td>\n",
       "      <td>885985984</td>\n",
       "    </tr>\n",
       "    <tr>\n",
       "      <th>2</th>\n",
       "      <td>2017-11-11</td>\n",
       "      <td>314.681000</td>\n",
       "      <td>319.453003</td>\n",
       "      <td>298.191986</td>\n",
       "      <td>298.585999</td>\n",
       "      <td>842300992</td>\n",
       "    </tr>\n",
       "    <tr>\n",
       "      <th>3</th>\n",
       "      <td>2017-11-12</td>\n",
       "      <td>307.907990</td>\n",
       "      <td>319.153015</td>\n",
       "      <td>298.513000</td>\n",
       "      <td>314.690002</td>\n",
       "      <td>1613479936</td>\n",
       "    </tr>\n",
       "    <tr>\n",
       "      <th>4</th>\n",
       "      <td>2017-11-13</td>\n",
       "      <td>316.716003</td>\n",
       "      <td>328.415009</td>\n",
       "      <td>307.024994</td>\n",
       "      <td>307.024994</td>\n",
       "      <td>1041889984</td>\n",
       "    </tr>\n",
       "  </tbody>\n",
       "</table>\n",
       "</div>"
      ],
      "text/plain": [
       "Price        Date       Close        High         Low        Open      Volume\n",
       "Ticker                ETH-USD     ETH-USD     ETH-USD     ETH-USD     ETH-USD\n",
       "0      2017-11-09  320.884003  329.451996  307.056000  308.644989   893249984\n",
       "1      2017-11-10  299.252991  324.717987  294.541992  320.670990   885985984\n",
       "2      2017-11-11  314.681000  319.453003  298.191986  298.585999   842300992\n",
       "3      2017-11-12  307.907990  319.153015  298.513000  314.690002  1613479936\n",
       "4      2017-11-13  316.716003  328.415009  307.024994  307.024994  1041889984"
      ]
     },
     "execution_count": 26,
     "metadata": {},
     "output_type": "execute_result"
    }
   ],
   "source": [
    "eth_data.head()"
   ]
  },
  {
   "cell_type": "code",
   "execution_count": 27,
   "id": "ae4aec56",
   "metadata": {},
   "outputs": [
    {
     "data": {
      "text/html": [
       "<div>\n",
       "<style scoped>\n",
       "    .dataframe tbody tr th:only-of-type {\n",
       "        vertical-align: middle;\n",
       "    }\n",
       "\n",
       "    .dataframe tbody tr th {\n",
       "        vertical-align: top;\n",
       "    }\n",
       "\n",
       "    .dataframe thead tr th {\n",
       "        text-align: left;\n",
       "    }\n",
       "</style>\n",
       "<table border=\"1\" class=\"dataframe\">\n",
       "  <thead>\n",
       "    <tr>\n",
       "      <th>Price</th>\n",
       "      <th>Date</th>\n",
       "      <th>Close</th>\n",
       "      <th>High</th>\n",
       "      <th>Low</th>\n",
       "      <th>Open</th>\n",
       "      <th>Volume</th>\n",
       "    </tr>\n",
       "    <tr>\n",
       "      <th>Ticker</th>\n",
       "      <th></th>\n",
       "      <th>ETH-USD</th>\n",
       "      <th>ETH-USD</th>\n",
       "      <th>ETH-USD</th>\n",
       "      <th>ETH-USD</th>\n",
       "      <th>ETH-USD</th>\n",
       "    </tr>\n",
       "  </thead>\n",
       "  <tbody>\n",
       "    <tr>\n",
       "      <th>2604</th>\n",
       "      <td>2024-12-26</td>\n",
       "      <td>3331.225830</td>\n",
       "      <td>3512.604492</td>\n",
       "      <td>3302.306396</td>\n",
       "      <td>3493.304199</td>\n",
       "      <td>22247726776</td>\n",
       "    </tr>\n",
       "    <tr>\n",
       "      <th>2605</th>\n",
       "      <td>2024-12-27</td>\n",
       "      <td>3328.916992</td>\n",
       "      <td>3436.710693</td>\n",
       "      <td>3302.575684</td>\n",
       "      <td>3331.053711</td>\n",
       "      <td>24091627403</td>\n",
       "    </tr>\n",
       "    <tr>\n",
       "      <th>2606</th>\n",
       "      <td>2024-12-28</td>\n",
       "      <td>3397.902344</td>\n",
       "      <td>3419.920166</td>\n",
       "      <td>3318.033936</td>\n",
       "      <td>3328.774658</td>\n",
       "      <td>14305648523</td>\n",
       "    </tr>\n",
       "    <tr>\n",
       "      <th>2607</th>\n",
       "      <td>2024-12-29</td>\n",
       "      <td>3349.513428</td>\n",
       "      <td>3406.648438</td>\n",
       "      <td>3321.664795</td>\n",
       "      <td>3397.862549</td>\n",
       "      <td>13440907792</td>\n",
       "    </tr>\n",
       "    <tr>\n",
       "      <th>2608</th>\n",
       "      <td>2024-12-30</td>\n",
       "      <td>3356.392578</td>\n",
       "      <td>3428.527344</td>\n",
       "      <td>3298.804443</td>\n",
       "      <td>3349.585938</td>\n",
       "      <td>26981583962</td>\n",
       "    </tr>\n",
       "  </tbody>\n",
       "</table>\n",
       "</div>"
      ],
      "text/plain": [
       "Price        Date        Close         High          Low         Open  \\\n",
       "Ticker                 ETH-USD      ETH-USD      ETH-USD      ETH-USD   \n",
       "2604   2024-12-26  3331.225830  3512.604492  3302.306396  3493.304199   \n",
       "2605   2024-12-27  3328.916992  3436.710693  3302.575684  3331.053711   \n",
       "2606   2024-12-28  3397.902344  3419.920166  3318.033936  3328.774658   \n",
       "2607   2024-12-29  3349.513428  3406.648438  3321.664795  3397.862549   \n",
       "2608   2024-12-30  3356.392578  3428.527344  3298.804443  3349.585938   \n",
       "\n",
       "Price        Volume  \n",
       "Ticker      ETH-USD  \n",
       "2604    22247726776  \n",
       "2605    24091627403  \n",
       "2606    14305648523  \n",
       "2607    13440907792  \n",
       "2608    26981583962  "
      ]
     },
     "execution_count": 27,
     "metadata": {},
     "output_type": "execute_result"
    }
   ],
   "source": [
    "eth_data.tail()"
   ]
  },
  {
   "cell_type": "code",
   "execution_count": 28,
   "id": "8313b4ea",
   "metadata": {},
   "outputs": [
    {
     "data": {
      "text/html": [
       "<div>\n",
       "<style scoped>\n",
       "    .dataframe tbody tr th:only-of-type {\n",
       "        vertical-align: middle;\n",
       "    }\n",
       "\n",
       "    .dataframe tbody tr th {\n",
       "        vertical-align: top;\n",
       "    }\n",
       "\n",
       "    .dataframe thead tr th {\n",
       "        text-align: left;\n",
       "    }\n",
       "</style>\n",
       "<table border=\"1\" class=\"dataframe\">\n",
       "  <thead>\n",
       "    <tr>\n",
       "      <th>Price</th>\n",
       "      <th>Date</th>\n",
       "      <th>Close</th>\n",
       "      <th>High</th>\n",
       "      <th>Low</th>\n",
       "      <th>Open</th>\n",
       "      <th>Volume</th>\n",
       "    </tr>\n",
       "    <tr>\n",
       "      <th>Ticker</th>\n",
       "      <th></th>\n",
       "      <th>ETH-USD</th>\n",
       "      <th>ETH-USD</th>\n",
       "      <th>ETH-USD</th>\n",
       "      <th>ETH-USD</th>\n",
       "      <th>ETH-USD</th>\n",
       "    </tr>\n",
       "  </thead>\n",
       "  <tbody>\n",
       "    <tr>\n",
       "      <th>count</th>\n",
       "      <td>2609</td>\n",
       "      <td>2609.000000</td>\n",
       "      <td>2609.000000</td>\n",
       "      <td>2609.000000</td>\n",
       "      <td>2609.000000</td>\n",
       "      <td>2.609000e+03</td>\n",
       "    </tr>\n",
       "    <tr>\n",
       "      <th>mean</th>\n",
       "      <td>2021-06-05 00:00:00</td>\n",
       "      <td>1490.773764</td>\n",
       "      <td>1530.573913</td>\n",
       "      <td>1445.274314</td>\n",
       "      <td>1489.776234</td>\n",
       "      <td>1.301809e+10</td>\n",
       "    </tr>\n",
       "    <tr>\n",
       "      <th>min</th>\n",
       "      <td>2017-11-09 00:00:00</td>\n",
       "      <td>84.308296</td>\n",
       "      <td>85.342743</td>\n",
       "      <td>82.829887</td>\n",
       "      <td>84.279694</td>\n",
       "      <td>6.217330e+08</td>\n",
       "    </tr>\n",
       "    <tr>\n",
       "      <th>25%</th>\n",
       "      <td>2019-08-23 00:00:00</td>\n",
       "      <td>268.704041</td>\n",
       "      <td>274.320831</td>\n",
       "      <td>261.960510</td>\n",
       "      <td>268.692261</td>\n",
       "      <td>5.556444e+09</td>\n",
       "    </tr>\n",
       "    <tr>\n",
       "      <th>50%</th>\n",
       "      <td>2021-06-05 00:00:00</td>\n",
       "      <td>1352.837158</td>\n",
       "      <td>1390.589966</td>\n",
       "      <td>1308.991455</td>\n",
       "      <td>1353.205078</td>\n",
       "      <td>1.061841e+10</td>\n",
       "    </tr>\n",
       "    <tr>\n",
       "      <th>75%</th>\n",
       "      <td>2023-03-19 00:00:00</td>\n",
       "      <td>2405.181152</td>\n",
       "      <td>2472.187744</td>\n",
       "      <td>2322.337158</td>\n",
       "      <td>2401.256348</td>\n",
       "      <td>1.768550e+10</td>\n",
       "    </tr>\n",
       "    <tr>\n",
       "      <th>max</th>\n",
       "      <td>2024-12-30 00:00:00</td>\n",
       "      <td>4812.087402</td>\n",
       "      <td>4891.704590</td>\n",
       "      <td>4718.039062</td>\n",
       "      <td>4810.071289</td>\n",
       "      <td>8.448291e+10</td>\n",
       "    </tr>\n",
       "    <tr>\n",
       "      <th>std</th>\n",
       "      <td>NaN</td>\n",
       "      <td>1226.266551</td>\n",
       "      <td>1258.805914</td>\n",
       "      <td>1189.917204</td>\n",
       "      <td>1226.214741</td>\n",
       "      <td>1.059053e+10</td>\n",
       "    </tr>\n",
       "  </tbody>\n",
       "</table>\n",
       "</div>"
      ],
      "text/plain": [
       "Price                  Date        Close         High          Low  \\\n",
       "Ticker                           ETH-USD      ETH-USD      ETH-USD   \n",
       "count                  2609  2609.000000  2609.000000  2609.000000   \n",
       "mean    2021-06-05 00:00:00  1490.773764  1530.573913  1445.274314   \n",
       "min     2017-11-09 00:00:00    84.308296    85.342743    82.829887   \n",
       "25%     2019-08-23 00:00:00   268.704041   274.320831   261.960510   \n",
       "50%     2021-06-05 00:00:00  1352.837158  1390.589966  1308.991455   \n",
       "75%     2023-03-19 00:00:00  2405.181152  2472.187744  2322.337158   \n",
       "max     2024-12-30 00:00:00  4812.087402  4891.704590  4718.039062   \n",
       "std                     NaN  1226.266551  1258.805914  1189.917204   \n",
       "\n",
       "Price          Open        Volume  \n",
       "Ticker      ETH-USD       ETH-USD  \n",
       "count   2609.000000  2.609000e+03  \n",
       "mean    1489.776234  1.301809e+10  \n",
       "min       84.279694  6.217330e+08  \n",
       "25%      268.692261  5.556444e+09  \n",
       "50%     1353.205078  1.061841e+10  \n",
       "75%     2401.256348  1.768550e+10  \n",
       "max     4810.071289  8.448291e+10  \n",
       "std     1226.214741  1.059053e+10  "
      ]
     },
     "execution_count": 28,
     "metadata": {},
     "output_type": "execute_result"
    }
   ],
   "source": [
    "eth_data.describe() "
   ]
  },
  {
   "cell_type": "markdown",
   "id": "edec7da6",
   "metadata": {},
   "source": [
    "\n",
    "* **Time Covered:** This data shows us the price of Ethereum and how much it was traded each day from late 2017 to the end of 2024.\n",
    "* **How Much Data:** 2600 individual days.\n",
    "* **Average End-of-Day Price:** If you look at the price of Ethereum at the end of each day, the average over this whole period was about $1490.\n",
    "* **Price Swing:** The price went as low as about $84 on some days and as high as over $4800 on other days. This shows how much the price of Ethereum could go up or down.\n",
    "* The **average price** (mean) over all the days is around $1490.\n",
    "* The **middle price** (median) of all the daily prices is around $1352. This means that for roughly half of the days, the price was below $1352, and for roughly half, it was above.\n",
    "* **Price Changeability:** The price of Ethereum changed quite a lot day-to-day. The standard deviation of around $1226 tells us that the price often moved significantly away from the average."
   ]
  },
  {
   "cell_type": "code",
   "execution_count": null,
   "id": "577c909c",
   "metadata": {},
   "outputs": [
    {
     "data": {
      "text/html": [
       "<div>\n",
       "<style scoped>\n",
       "    .dataframe tbody tr th:only-of-type {\n",
       "        vertical-align: middle;\n",
       "    }\n",
       "\n",
       "    .dataframe tbody tr th {\n",
       "        vertical-align: top;\n",
       "    }\n",
       "\n",
       "    .dataframe thead th {\n",
       "        text-align: right;\n",
       "    }\n",
       "</style>\n",
       "<table border=\"1\" class=\"dataframe\">\n",
       "  <thead>\n",
       "    <tr style=\"text-align: right;\">\n",
       "      <th></th>\n",
       "      <th>Date</th>\n",
       "      <th>Close</th>\n",
       "      <th>High</th>\n",
       "      <th>Low</th>\n",
       "      <th>Open</th>\n",
       "      <th>Volume</th>\n",
       "    </tr>\n",
       "  </thead>\n",
       "  <tbody>\n",
       "    <tr>\n",
       "      <th>0</th>\n",
       "      <td>2017-11-09</td>\n",
       "      <td>320.884003</td>\n",
       "      <td>329.451996</td>\n",
       "      <td>307.056000</td>\n",
       "      <td>308.644989</td>\n",
       "      <td>893249984</td>\n",
       "    </tr>\n",
       "    <tr>\n",
       "      <th>1</th>\n",
       "      <td>2017-11-10</td>\n",
       "      <td>299.252991</td>\n",
       "      <td>324.717987</td>\n",
       "      <td>294.541992</td>\n",
       "      <td>320.670990</td>\n",
       "      <td>885985984</td>\n",
       "    </tr>\n",
       "    <tr>\n",
       "      <th>2</th>\n",
       "      <td>2017-11-11</td>\n",
       "      <td>314.681000</td>\n",
       "      <td>319.453003</td>\n",
       "      <td>298.191986</td>\n",
       "      <td>298.585999</td>\n",
       "      <td>842300992</td>\n",
       "    </tr>\n",
       "    <tr>\n",
       "      <th>3</th>\n",
       "      <td>2017-11-12</td>\n",
       "      <td>307.907990</td>\n",
       "      <td>319.153015</td>\n",
       "      <td>298.513000</td>\n",
       "      <td>314.690002</td>\n",
       "      <td>1613479936</td>\n",
       "    </tr>\n",
       "    <tr>\n",
       "      <th>4</th>\n",
       "      <td>2017-11-13</td>\n",
       "      <td>316.716003</td>\n",
       "      <td>328.415009</td>\n",
       "      <td>307.024994</td>\n",
       "      <td>307.024994</td>\n",
       "      <td>1041889984</td>\n",
       "    </tr>\n",
       "  </tbody>\n",
       "</table>\n",
       "</div>"
      ],
      "text/plain": [
       "        Date       Close        High         Low        Open      Volume\n",
       "0 2017-11-09  320.884003  329.451996  307.056000  308.644989   893249984\n",
       "1 2017-11-10  299.252991  324.717987  294.541992  320.670990   885985984\n",
       "2 2017-11-11  314.681000  319.453003  298.191986  298.585999   842300992\n",
       "3 2017-11-12  307.907990  319.153015  298.513000  314.690002  1613479936\n",
       "4 2017-11-13  316.716003  328.415009  307.024994  307.024994  1041889984"
      ]
     },
     "execution_count": 29,
     "metadata": {},
     "output_type": "execute_result"
    }
   ],
   "source": [
    "eth_data.columns = [col[0] if isinstance(col, tuple) else col for col in eth_data.columns]\n",
    "eth_data.head()"
   ]
  },
  {
   "cell_type": "code",
   "execution_count": null,
   "id": "d4aed4fb",
   "metadata": {},
   "outputs": [
    {
     "data": {
      "application/vnd.plotly.v1+json": {
       "config": {
        "plotlyServerURL": "https://plot.ly"
       },
       "data": [
        {
         "hovertemplate": "index=%{x}<br>Close=%{y}<extra></extra>",
         "legendgroup": "",
         "line": {
          "color": "#636efa",
          "dash": "solid"
         },
         "marker": {
          "symbol": "circle"
         },
         "mode": "lines",
         "name": "",
         "showlegend": false,
         "type": "scattergl",
         "x": {
          "bdata": "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",
          "dtype": "i2"
         },
         "xaxis": "x",
         "y": {
          "bdata": "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",
          "dtype": "f8"
         },
         "yaxis": "y"
        }
       ],
       "layout": {
        "legend": {
         "tracegroupgap": 0
        },
        "template": {
         "data": {
          "bar": [
           {
            "error_x": {
             "color": "#2a3f5f"
            },
            "error_y": {
             "color": "#2a3f5f"
            },
            "marker": {
             "line": {
              "color": "#E5ECF6",
              "width": 0.5
             },
             "pattern": {
              "fillmode": "overlay",
              "size": 10,
              "solidity": 0.2
             }
            },
            "type": "bar"
           }
          ],
          "barpolar": [
           {
            "marker": {
             "line": {
              "color": "#E5ECF6",
              "width": 0.5
             },
             "pattern": {
              "fillmode": "overlay",
              "size": 10,
              "solidity": 0.2
             }
            },
            "type": "barpolar"
           }
          ],
          "carpet": [
           {
            "aaxis": {
             "endlinecolor": "#2a3f5f",
             "gridcolor": "white",
             "linecolor": "white",
             "minorgridcolor": "white",
             "startlinecolor": "#2a3f5f"
            },
            "baxis": {
             "endlinecolor": "#2a3f5f",
             "gridcolor": "white",
             "linecolor": "white",
             "minorgridcolor": "white",
             "startlinecolor": "#2a3f5f"
            },
            "type": "carpet"
           }
          ],
          "choropleth": [
           {
            "colorbar": {
             "outlinewidth": 0,
             "ticks": ""
            },
            "type": "choropleth"
           }
          ],
          "contour": [
           {
            "colorbar": {
             "outlinewidth": 0,
             "ticks": ""
            },
            "colorscale": [
             [
              0,
              "#0d0887"
             ],
             [
              0.1111111111111111,
              "#46039f"
             ],
             [
              0.2222222222222222,
              "#7201a8"
             ],
             [
              0.3333333333333333,
              "#9c179e"
             ],
             [
              0.4444444444444444,
              "#bd3786"
             ],
             [
              0.5555555555555556,
              "#d8576b"
             ],
             [
              0.6666666666666666,
              "#ed7953"
             ],
             [
              0.7777777777777778,
              "#fb9f3a"
             ],
             [
              0.8888888888888888,
              "#fdca26"
             ],
             [
              1,
              "#f0f921"
             ]
            ],
            "type": "contour"
           }
          ],
          "contourcarpet": [
           {
            "colorbar": {
             "outlinewidth": 0,
             "ticks": ""
            },
            "type": "contourcarpet"
           }
          ],
          "heatmap": [
           {
            "colorbar": {
             "outlinewidth": 0,
             "ticks": ""
            },
            "colorscale": [
             [
              0,
              "#0d0887"
             ],
             [
              0.1111111111111111,
              "#46039f"
             ],
             [
              0.2222222222222222,
              "#7201a8"
             ],
             [
              0.3333333333333333,
              "#9c179e"
             ],
             [
              0.4444444444444444,
              "#bd3786"
             ],
             [
              0.5555555555555556,
              "#d8576b"
             ],
             [
              0.6666666666666666,
              "#ed7953"
             ],
             [
              0.7777777777777778,
              "#fb9f3a"
             ],
             [
              0.8888888888888888,
              "#fdca26"
             ],
             [
              1,
              "#f0f921"
             ]
            ],
            "type": "heatmap"
           }
          ],
          "histogram": [
           {
            "marker": {
             "pattern": {
              "fillmode": "overlay",
              "size": 10,
              "solidity": 0.2
             }
            },
            "type": "histogram"
           }
          ],
          "histogram2d": [
           {
            "colorbar": {
             "outlinewidth": 0,
             "ticks": ""
            },
            "colorscale": [
             [
              0,
              "#0d0887"
             ],
             [
              0.1111111111111111,
              "#46039f"
             ],
             [
              0.2222222222222222,
              "#7201a8"
             ],
             [
              0.3333333333333333,
              "#9c179e"
             ],
             [
              0.4444444444444444,
              "#bd3786"
             ],
             [
              0.5555555555555556,
              "#d8576b"
             ],
             [
              0.6666666666666666,
              "#ed7953"
             ],
             [
              0.7777777777777778,
              "#fb9f3a"
             ],
             [
              0.8888888888888888,
              "#fdca26"
             ],
             [
              1,
              "#f0f921"
             ]
            ],
            "type": "histogram2d"
           }
          ],
          "histogram2dcontour": [
           {
            "colorbar": {
             "outlinewidth": 0,
             "ticks": ""
            },
            "colorscale": [
             [
              0,
              "#0d0887"
             ],
             [
              0.1111111111111111,
              "#46039f"
             ],
             [
              0.2222222222222222,
              "#7201a8"
             ],
             [
              0.3333333333333333,
              "#9c179e"
             ],
             [
              0.4444444444444444,
              "#bd3786"
             ],
             [
              0.5555555555555556,
              "#d8576b"
             ],
             [
              0.6666666666666666,
              "#ed7953"
             ],
             [
              0.7777777777777778,
              "#fb9f3a"
             ],
             [
              0.8888888888888888,
              "#fdca26"
             ],
             [
              1,
              "#f0f921"
             ]
            ],
            "type": "histogram2dcontour"
           }
          ],
          "mesh3d": [
           {
            "colorbar": {
             "outlinewidth": 0,
             "ticks": ""
            },
            "type": "mesh3d"
           }
          ],
          "parcoords": [
           {
            "line": {
             "colorbar": {
              "outlinewidth": 0,
              "ticks": ""
             }
            },
            "type": "parcoords"
           }
          ],
          "pie": [
           {
            "automargin": true,
            "type": "pie"
           }
          ],
          "scatter": [
           {
            "fillpattern": {
             "fillmode": "overlay",
             "size": 10,
             "solidity": 0.2
            },
            "type": "scatter"
           }
          ],
          "scatter3d": [
           {
            "line": {
             "colorbar": {
              "outlinewidth": 0,
              "ticks": ""
             }
            },
            "marker": {
             "colorbar": {
              "outlinewidth": 0,
              "ticks": ""
             }
            },
            "type": "scatter3d"
           }
          ],
          "scattercarpet": [
           {
            "marker": {
             "colorbar": {
              "outlinewidth": 0,
              "ticks": ""
             }
            },
            "type": "scattercarpet"
           }
          ],
          "scattergeo": [
           {
            "marker": {
             "colorbar": {
              "outlinewidth": 0,
              "ticks": ""
             }
            },
            "type": "scattergeo"
           }
          ],
          "scattergl": [
           {
            "marker": {
             "colorbar": {
              "outlinewidth": 0,
              "ticks": ""
             }
            },
            "type": "scattergl"
           }
          ],
          "scattermap": [
           {
            "marker": {
             "colorbar": {
              "outlinewidth": 0,
              "ticks": ""
             }
            },
            "type": "scattermap"
           }
          ],
          "scattermapbox": [
           {
            "marker": {
             "colorbar": {
              "outlinewidth": 0,
              "ticks": ""
             }
            },
            "type": "scattermapbox"
           }
          ],
          "scatterpolar": [
           {
            "marker": {
             "colorbar": {
              "outlinewidth": 0,
              "ticks": ""
             }
            },
            "type": "scatterpolar"
           }
          ],
          "scatterpolargl": [
           {
            "marker": {
             "colorbar": {
              "outlinewidth": 0,
              "ticks": ""
             }
            },
            "type": "scatterpolargl"
           }
          ],
          "scatterternary": [
           {
            "marker": {
             "colorbar": {
              "outlinewidth": 0,
              "ticks": ""
             }
            },
            "type": "scatterternary"
           }
          ],
          "surface": [
           {
            "colorbar": {
             "outlinewidth": 0,
             "ticks": ""
            },
            "colorscale": [
             [
              0,
              "#0d0887"
             ],
             [
              0.1111111111111111,
              "#46039f"
             ],
             [
              0.2222222222222222,
              "#7201a8"
             ],
             [
              0.3333333333333333,
              "#9c179e"
             ],
             [
              0.4444444444444444,
              "#bd3786"
             ],
             [
              0.5555555555555556,
              "#d8576b"
             ],
             [
              0.6666666666666666,
              "#ed7953"
             ],
             [
              0.7777777777777778,
              "#fb9f3a"
             ],
             [
              0.8888888888888888,
              "#fdca26"
             ],
             [
              1,
              "#f0f921"
             ]
            ],
            "type": "surface"
           }
          ],
          "table": [
           {
            "cells": {
             "fill": {
              "color": "#EBF0F8"
             },
             "line": {
              "color": "white"
             }
            },
            "header": {
             "fill": {
              "color": "#C8D4E3"
             },
             "line": {
              "color": "white"
             }
            },
            "type": "table"
           }
          ]
         },
         "layout": {
          "annotationdefaults": {
           "arrowcolor": "#2a3f5f",
           "arrowhead": 0,
           "arrowwidth": 1
          },
          "autotypenumbers": "strict",
          "coloraxis": {
           "colorbar": {
            "outlinewidth": 0,
            "ticks": ""
           }
          },
          "colorscale": {
           "diverging": [
            [
             0,
             "#8e0152"
            ],
            [
             0.1,
             "#c51b7d"
            ],
            [
             0.2,
             "#de77ae"
            ],
            [
             0.3,
             "#f1b6da"
            ],
            [
             0.4,
             "#fde0ef"
            ],
            [
             0.5,
             "#f7f7f7"
            ],
            [
             0.6,
             "#e6f5d0"
            ],
            [
             0.7,
             "#b8e186"
            ],
            [
             0.8,
             "#7fbc41"
            ],
            [
             0.9,
             "#4d9221"
            ],
            [
             1,
             "#276419"
            ]
           ],
           "sequential": [
            [
             0,
             "#0d0887"
            ],
            [
             0.1111111111111111,
             "#46039f"
            ],
            [
             0.2222222222222222,
             "#7201a8"
            ],
            [
             0.3333333333333333,
             "#9c179e"
            ],
            [
             0.4444444444444444,
             "#bd3786"
            ],
            [
             0.5555555555555556,
             "#d8576b"
            ],
            [
             0.6666666666666666,
             "#ed7953"
            ],
            [
             0.7777777777777778,
             "#fb9f3a"
            ],
            [
             0.8888888888888888,
             "#fdca26"
            ],
            [
             1,
             "#f0f921"
            ]
           ],
           "sequentialminus": [
            [
             0,
             "#0d0887"
            ],
            [
             0.1111111111111111,
             "#46039f"
            ],
            [
             0.2222222222222222,
             "#7201a8"
            ],
            [
             0.3333333333333333,
             "#9c179e"
            ],
            [
             0.4444444444444444,
             "#bd3786"
            ],
            [
             0.5555555555555556,
             "#d8576b"
            ],
            [
             0.6666666666666666,
             "#ed7953"
            ],
            [
             0.7777777777777778,
             "#fb9f3a"
            ],
            [
             0.8888888888888888,
             "#fdca26"
            ],
            [
             1,
             "#f0f921"
            ]
           ]
          },
          "colorway": [
           "#636efa",
           "#EF553B",
           "#00cc96",
           "#ab63fa",
           "#FFA15A",
           "#19d3f3",
           "#FF6692",
           "#B6E880",
           "#FF97FF",
           "#FECB52"
          ],
          "font": {
           "color": "#2a3f5f"
          },
          "geo": {
           "bgcolor": "white",
           "lakecolor": "white",
           "landcolor": "#E5ECF6",
           "showlakes": true,
           "showland": true,
           "subunitcolor": "white"
          },
          "hoverlabel": {
           "align": "left"
          },
          "hovermode": "closest",
          "mapbox": {
           "style": "light"
          },
          "paper_bgcolor": "white",
          "plot_bgcolor": "#E5ECF6",
          "polar": {
           "angularaxis": {
            "gridcolor": "white",
            "linecolor": "white",
            "ticks": ""
           },
           "bgcolor": "#E5ECF6",
           "radialaxis": {
            "gridcolor": "white",
            "linecolor": "white",
            "ticks": ""
           }
          },
          "scene": {
           "xaxis": {
            "backgroundcolor": "#E5ECF6",
            "gridcolor": "white",
            "gridwidth": 2,
            "linecolor": "white",
            "showbackground": true,
            "ticks": "",
            "zerolinecolor": "white"
           },
           "yaxis": {
            "backgroundcolor": "#E5ECF6",
            "gridcolor": "white",
            "gridwidth": 2,
            "linecolor": "white",
            "showbackground": true,
            "ticks": "",
            "zerolinecolor": "white"
           },
           "zaxis": {
            "backgroundcolor": "#E5ECF6",
            "gridcolor": "white",
            "gridwidth": 2,
            "linecolor": "white",
            "showbackground": true,
            "ticks": "",
            "zerolinecolor": "white"
           }
          },
          "shapedefaults": {
           "line": {
            "color": "#2a3f5f"
           }
          },
          "ternary": {
           "aaxis": {
            "gridcolor": "white",
            "linecolor": "white",
            "ticks": ""
           },
           "baxis": {
            "gridcolor": "white",
            "linecolor": "white",
            "ticks": ""
           },
           "bgcolor": "#E5ECF6",
           "caxis": {
            "gridcolor": "white",
            "linecolor": "white",
            "ticks": ""
           }
          },
          "title": {
           "x": 0.05
          },
          "xaxis": {
           "automargin": true,
           "gridcolor": "white",
           "linecolor": "white",
           "ticks": "",
           "title": {
            "standoff": 15
           },
           "zerolinecolor": "white",
           "zerolinewidth": 2
          },
          "yaxis": {
           "automargin": true,
           "gridcolor": "white",
           "linecolor": "white",
           "ticks": "",
           "title": {
            "standoff": 15
           },
           "zerolinecolor": "white",
           "zerolinewidth": 2
          }
         }
        },
        "title": {
         "text": "Ethereum (ETH/USDT) Daily Closing Price"
        },
        "xaxis": {
         "anchor": "y",
         "domain": [
          0,
          1
         ],
         "title": {
          "text": "index"
         }
        },
        "yaxis": {
         "anchor": "x",
         "domain": [
          0,
          1
         ],
         "title": {
          "text": "Close"
         }
        }
       }
      }
     },
     "metadata": {},
     "output_type": "display_data"
    }
   ],
   "source": [
    "import plotly.express as px\n",
    "\n",
    "px.line(eth_data, x=eth_data.index, y='Close', title='Ethereum (ETH/USDT) Daily Closing Price')"
   ]
  },
  {
   "cell_type": "code",
   "execution_count": 31,
   "id": "1bbfd208",
   "metadata": {},
   "outputs": [
    {
     "data": {
      "application/vnd.plotly.v1+json": {
       "config": {
        "plotlyServerURL": "https://plot.ly"
       },
       "data": [
        {
         "hovertemplate": "index=%{x}<br>Volume=%{y}<extra></extra>",
         "legendgroup": "",
         "line": {
          "color": "#636efa",
          "dash": "solid"
         },
         "marker": {
          "symbol": "circle"
         },
         "mode": "lines",
         "name": "",
         "showlegend": false,
         "type": "scattergl",
         "x": {
          "bdata": "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",
          "dtype": "i2"
         },
         "xaxis": "x",
         "y": [
          893249984,
          885985984,
          842300992,
          1613479936,
          1041889984,
          1069680000,
          722665984,
          797254016,
          621732992,
          649638976,
          1181529984,
          807027008,
          949912000,
          800819008,
          1845680000,
          2292829952,
          1422080000,
          1197779968,
          1396480000,
          1346499968,
          2675940096,
          1903040000,
          1247879936,
          943649984,
          990556992,
          1005550016,
          1216720000,
          1998259968,
          2129570048,
          2336379904,
          2003849984,
          1404179968,
          1771440000,
          5179829760,
          4524539904,
          3821580032,
          2758710016,
          2165690112,
          2147389952,
          3249230080,
          4096549888,
          3969939968,
          3569060096,
          4977710080,
          2480339968,
          2300549888,
          2491760128,
          2201159936,
          2100029952,
          2389149952,
          2648969984,
          3187780096,
          2554269952,
          2595760128,
          5783349760,
          5093159936,
          6502859776,
          6683149824,
          4662219776,
          5569880064,
          8450970112,
          7965459968,
          9214950400,
          7235899904,
          5222300160,
          5746760192,
          4841630208,
          4781100032,
          8405139968,
          8545160192,
          5938319872,
          4084450048,
          3975190016,
          3378089984,
          3810099968,
          3556699904,
          3944039936,
          4050190080,
          3617690112,
          3002870016,
          5372329984,
          3715079936,
          4107859968,
          3757560064,
          5261680128,
          6713290240,
          3243480064,
          2997090048,
          4269530112,
          6518269952,
          3896179968,
          3708189952,
          2495820032,
          2930530048,
          2486650112,
          2243450112,
          2081170048,
          2818370048,
          2900100096,
          2369449984,
          2525720064,
          2567290112,
          2169019904,
          2545260032,
          2531729920,
          2150370048,
          2334820096,
          1926579968,
          1646960000,
          2044480000,
          2053980032,
          1963980032,
          1868519936,
          1894419968,
          1699369984,
          1697939968,
          1898489984,
          1943069952,
          2175419904,
          1891640064,
          2233019904,
          1532960000,
          1562680064,
          1764999936,
          1425959936,
          1810560000,
          1770460032,
          1417350016,
          1267810048,
          2685499904,
          2046790016,
          1833680000,
          1781270016,
          1523459968,
          1596349952,
          1300009984,
          1151170048,
          1638880000,
          1617939968,
          1514179968,
          1970230016,
          1878130048,
          1323920000,
          1256930048,
          1102259968,
          1363399936,
          1287730048,
          1210680064,
          967105984,
          951475008,
          948488000,
          1478390016,
          1196000000,
          1439040000,
          2519360000,
          2419249920,
          1519079936,
          1726089984,
          1758979968,
          1760359936,
          1762940032,
          2256869888,
          2849469952,
          2612460032,
          2426269952,
          2386830080,
          3581860096,
          4216140032,
          2984009984,
          2598129920,
          2496659968,
          2740559872,
          2853100032,
          2678960128,
          2822269952,
          4210939904,
          3533410048,
          3035040000,
          3105570048,
          4316120064,
          2920489984,
          2877870080,
          2748950016,
          3290080000,
          2668480000,
          2362500096,
          3005110016,
          2523069952,
          2476130048,
          2350619904,
          2305740032,
          2021549952,
          2156910080,
          2005170048,
          2230469888,
          2995429888,
          2791099904,
          2110919936,
          1694300032,
          1788790016,
          2356900096,
          2330820096,
          2053970048,
          1985040000,
          1945890048,
          1880390016,
          1832550016,
          1903430016,
          1844269952,
          1756530048,
          1880140032,
          1637779968,
          1519309952,
          2234880000,
          1982119936,
          1932760064,
          2080130048,
          2458650112,
          1808269952,
          1314109952,
          1264870016,
          1513869952,
          1726569984,
          1596290048,
          1462070016,
          2226030080,
          1651379968,
          2490579968,
          4007950080,
          1356560000,
          1368940032,
          1360790016,
          1564499968,
          1475939968,
          1511730048,
          1625789952,
          1683939968,
          1549769984,
          1828610048,
          1627609984,
          1358360064,
          1344560000,
          1533799936,
          1789069952,
          1422470016,
          1495440000,
          1489670016,
          1235820032,
          1350160000,
          1858680064,
          2288100096,
          2371559936,
          2068739968,
          1821350016,
          1504310016,
          1338589952,
          1596999936,
          2287520000,
          1930780032,
          1621560064,
          1734259968,
          1531890048,
          1631910016,
          2141590000,
          1820680000,
          1888060000,
          1569300000,
          1722340000,
          1466540000,
          1396820000,
          1384880000,
          1828350000,
          2016080000,
          1616610000,
          1699400000,
          1790370000,
          1625420000,
          1751190000,
          2137850000,
          1878150000,
          1552970000,
          1995460000,
          1764020000,
          1447910000,
          1413790000,
          1164120000,
          1507660000,
          1271160000,
          1450170000,
          1208360000,
          1206650000,
          1406790000,
          1513350000,
          1474460000,
          1513100000,
          1411910000,
          1546630000,
          1321050000,
          1394490000,
          1554870000,
          2390390000,
          2097310000,
          1678260000,
          1517200000,
          1585980000,
          1502960000,
          1568900000,
          1874850000,
          2330720000,
          2232190000,
          1670490000,
          1502260000,
          2019910000,
          1800640000,
          1733330000,
          1782070000,
          2836200000,
          1921820000,
          1693470000,
          1748740000,
          2120360000,
          1756100000,
          2030320000,
          2018120000,
          2208720000,
          1765560000,
          1597500000,
          1542080000,
          1683930000,
          1479500000,
          1547330000,
          1505070000,
          1470480000,
          1470740000,
          1405130000,
          1384040000,
          2167620000,
          1487900000,
          1167610000,
          1169260000,
          2865830000,
          1532280000,
          1444130000,
          1365860000,
          1264480000,
          1238780000,
          1190300000,
          1328980000,
          1237490000,
          1102220000,
          1102900000,
          1161310000,
          1084810000,
          1139140000,
          1517230000,
          1363500000,
          1442380000,
          1336700000,
          1451870000,
          1307150000,
          1749300000,
          1613510000,
          1856940000,
          1927830000,
          1769080000,
          1554750000,
          1377760000,
          1501600000,
          1452380000,
          1610260000,
          2595330000,
          2638410000,
          2015330000,
          1832800000,
          1810920000,
          2745160000,
          3134410000,
          2685930000,
          1792150000,
          1998010000,
          1800960000,
          2466750000,
          2139490000,
          2320010000,
          2673470000,
          2196099151,
          2020748396,
          2131475768,
          1856199149,
          1772756193,
          1748116495,
          1990157607,
          2310716932,
          2554304530,
          1855759401,
          1875567180,
          1756437577,
          1707497898,
          1533050103,
          1754475622,
          1651491877,
          1496176898,
          1565817037,
          2101453024,
          2277514076,
          2456482115,
          3063842618,
          2632539990,
          2338772939,
          3579715061,
          4370343387,
          3298280609,
          2720469126,
          2612804378,
          3130201009,
          3169029972,
          2660086834,
          2358360234,
          2258709868,
          3328240369,
          2676164880,
          3126192535,
          3338211928,
          3231294371,
          2712108388,
          2459808140,
          2369241197,
          3397734456,
          2667585234,
          2212109224,
          2268263944,
          2798085735,
          2735449164,
          2746469340,
          2594091285,
          2305389800,
          3048261797,
          2964108269,
          2421720343,
          2552507405,
          2556952198,
          2520843420,
          2606881898,
          2412181169,
          2775888287,
          3366895505,
          2900418606,
          2874370355,
          2828796031,
          2541271519,
          2385157838,
          2519334757,
          2491888675,
          2515863999,
          2593048199,
          2326764622,
          3656841347,
          2884650400,
          3148766590,
          3222473887,
          3149576429,
          3386585799,
          3331701628,
          3021741615,
          2905833287,
          4236081130,
          5387525773,
          5310842625,
          4500094965,
          3995766856,
          3731099284,
          4519468458,
          5957715043,
          4914392068,
          3791292839,
          4469776860,
          4535438953,
          3756124824,
          3747176425,
          3454374053,
          4008171341,
          4764849990,
          4589054219,
          4339206292,
          4678816794,
          5011918715,
          4578438499,
          4689807419,
          4709988000,
          4265162099,
          4476532147,
          4506861856,
          4839003569,
          3827157729,
          4551739879,
          4251488129,
          4664134462,
          5087247796,
          4490899266,
          4436568613,
          4266845458,
          4480516753,
          4499271679,
          5228240093,
          4163212475,
          5125602702,
          5144662127,
          4249050197,
          4611999536,
          9826645698,
          10622456246,
          7953123529,
          7531316908,
          7167016221,
          7596176020,
          9304964610,
          7632529578,
          7856924879,
          7859383417,
          6237185309,
          4959301561,
          4846298303,
          5672311824,
          5180105341,
          5596102715,
          6971581464,
          6541053061,
          6142567812,
          6005571688,
          6094878077,
          7097827092,
          7351304156,
          6820332362,
          7505283355,
          5863109118,
          5379894433,
          6053776253,
          6275803460,
          5789172433,
          6044171062,
          7299410672,
          6658100049,
          5938415562,
          7540096853,
          8411140170,
          6416569598,
          6546914198,
          8036919053,
          12578331654,
          10326050090,
          10367149039,
          12751049755,
          13460006534,
          18661465873,
          16037551694,
          10933142646,
          12049250894,
          10834541285,
          11545049593,
          9818257463,
          10671663487,
          9929433206,
          8924985385,
          9664267731,
          12074664736,
          10362846898,
          9819132174,
          13604268584,
          11255023515,
          9942869852,
          8744111713,
          9375712917,
          10132549747,
          8548917062,
          8265146806,
          8379534528,
          7225996863,
          7566421456,
          8141159848,
          7382269700,
          8645598618,
          8442077836,
          8676891267,
          8126853944,
          9676746453,
          6009795781,
          6205242504,
          5516510947,
          6408981097,
          9331694140,
          10613731255,
          8161062380,
          8205712062,
          9641764965,
          16437084081,
          14038092503,
          11514656820,
          10929374565,
          10303111000,
          10292223948,
          10618413952,
          9926711979,
          8403513106,
          8723493015,
          7674615025,
          8119724981,
          9078905628,
          10055159803,
          11679985167,
          10216287022,
          8148936015,
          6716829429,
          8578339386,
          9723674244,
          9036620494,
          9387747640,
          9327816059,
          7606433131,
          7976245988,
          6685082868,
          6338843919,
          6976091534,
          7168982843,
          6731281160,
          5729852178,
          6257703908,
          5504887934,
          5485190664,
          5489918859,
          6003828340,
          5965442642,
          6159440229,
          5697798687,
          5238542572,
          7765060287,
          7647742672,
          7020342210,
          6713525644,
          6964818795,
          6584748527,
          6440605605,
          5674315559,
          5946313205,
          7444456154,
          8197244441,
          7133915837,
          5512696513,
          5969012024,
          6145148692,
          6408417610,
          7775772700,
          7569043874,
          6658162377,
          6249737982,
          5826017143,
          7207986636,
          6042327402,
          6696604087,
          7129569083,
          5776520220,
          5830212249,
          5554799576,
          6503447137,
          6962728938,
          5938120494,
          5589476516,
          6797611878,
          6791531342,
          6472677266,
          7232938985,
          6291476772,
          7157139035,
          5838605477,
          5955041237,
          6500686511,
          6222874780,
          8242029488,
          10232590812,
          9194634557,
          10620070913,
          8027974273,
          7743309778,
          7812854576,
          7494673136,
          11757739233,
          9766632018,
          7848286154,
          7909313625,
          6895423445,
          6497088199,
          7552915148,
          7676276225,
          6335595250,
          6381403725,
          6248928449,
          5837211771,
          5852890674,
          7844316834,
          7466282780,
          9088122101,
          8375913276,
          9128522970,
          7494328840,
          6733182273,
          7276520699,
          7731456579,
          7691244590,
          6737237423,
          7566257807,
          6551453871,
          6801091120,
          6815820627,
          6990951966,
          9624925919,
          7300917537,
          10358594018,
          13831784986,
          10815941952,
          10406734124,
          10622761958,
          10484902804,
          9607939606,
          9145611130,
          8087991830,
          8760247744,
          10551917945,
          10024177342,
          10156458684,
          9081247799,
          9176780911,
          7277418704,
          8752784211,
          7877424106,
          7792186666,
          7343173596,
          7872664470,
          8815678477,
          6789888120,
          7364325471,
          7787662111,
          7536699743,
          7205785149,
          8546371325,
          12020749863,
          8289198330,
          7782769098,
          10962753356,
          7648516297,
          8778095308,
          7346531960,
          7503898278,
          6565950868,
          7102780298,
          6670561362,
          6204379850,
          7865937094,
          6745910228,
          6458766441,
          5911233284,
          6441727252,
          6744206747,
          6859512025,
          7037180049,
          7890383413,
          7264810247,
          7048066973,
          7235153411,
          8992282119,
          9057166141,
          11864518321,
          9564699140,
          8173594150,
          7449064703,
          9121058481,
          9622497693,
          7961819689,
          8418019054,
          8600871980,
          8299390176,
          8069298610,
          9708776786,
          9796951716,
          8936866397,
          7935230330,
          8032709256,
          10476845358,
          7430904515,
          7526675353,
          9093747121,
          9257954672,
          9387194957,
          7697325348,
          9084816203,
          9332208590,
          8528167453,
          8378529470,
          16712318373,
          15173694057,
          13735193018,
          14997091826,
          14929342256,
          13713374132,
          11144529787,
          9789369362,
          9209827928,
          10396868698,
          10657671162,
          8256956802,
          9261861590,
          11004476145,
          11772875064,
          10725267311,
          12604789338,
          11728616394,
          11569697182,
          14054425389,
          12392875241,
          11714191695,
          14865434435,
          16425589683,
          16673443564,
          16741203125,
          15031356241,
          16210008511,
          16964695963,
          24545049386,
          25801317504,
          23558253463,
          23682452994,
          25152366643,
          26024080089,
          26511477187,
          22679414413,
          23229828870,
          20867593292,
          16906032862,
          19585998814,
          22400845640,
          21878882134,
          26235617201,
          25645522790,
          22563530559,
          18181296376,
          18179807469,
          20305587789,
          19853178572,
          16567075208,
          18201291785,
          19374772256,
          19431652027,
          21381823651,
          23645428606,
          18344930072,
          16984790291,
          22134741655,
          27864623061,
          12740784545,
          12719251813,
          15984904590,
          12087490572,
          11617854009,
          16396753275,
          18960388062,
          13684083308,
          12497707224,
          14149877968,
          14609068673,
          13433092920,
          11367261176,
          11396286629,
          12162403960,
          9938133669,
          11841123306,
          11065246317,
          12456564435,
          15322861686,
          13184603402,
          11946658257,
          11280993591,
          21636382525,
          21659346091,
          17063110836,
          14901696210,
          17980944616,
          13555089447,
          15123721386,
          16465282133,
          14723156630,
          14171753737,
          22910469236,
          16714684266,
          20160323443,
          19146038381,
          21266681335,
          16458767984,
          17994666395,
          21275740032,
          16788555028,
          18260969748,
          18335367012,
          18670194595,
          18217507467,
          26397548759,
          28089191904,
          20816320834,
          18260876092,
          20469034664,
          22602446422,
          19004689099,
          20343543799,
          23594744655,
          20445139356,
          18950547549,
          25211575193,
          20054601647,
          15899726284,
          17054662289,
          20150524861,
          16602342092,
          15379081645,
          15470397303,
          17411566928,
          14346192779,
          12730175511,
          13308321229,
          12041592114,
          10665476768,
          11833299572,
          10415044124,
          10159741290,
          10631034756,
          12212469604,
          12265816557,
          15027397867,
          12234904813,
          13951727936,
          13782107567,
          9861760817,
          10170414304,
          9293963914,
          8114873845,
          9544883157,
          8076783299,
          8446545788,
          8792990206,
          12356528860,
          8868955009,
          7141624980,
          7439385176,
          10536099884,
          7965648016,
          7701391592,
          6713800872,
          6946372590,
          6252830566,
          5600408178,
          9079586552,
          6624530348,
          8815030025,
          7010426122,
          7187490226,
          6918380955,
          6205925718,
          6726164653,
          6094093001,
          6463737443,
          6212210566,
          5109032700,
          5228310135,
          5292172429,
          8782917553,
          6441497597,
          9892586411,
          8429099199,
          7281370522,
          5643067316,
          6596394718,
          7787751468,
          7357458555,
          6189328448,
          5832057567,
          5859850529,
          5397402117,
          6251377305,
          5600686192,
          6806696015,
          7702077383,
          10281309262,
          9466060358,
          10785021813,
          12003973026,
          15644257058,
          12357108065,
          10878845706,
          11827689045,
          12030600492,
          14045259477,
          18909744275,
          12834648062,
          14086704221,
          12875466638,
          11304626458,
          12751687084,
          9342060531,
          9451065592,
          11685827893,
          12792218737,
          12408772745,
          18480303526,
          15064589987,
          12416067894,
          12168816874,
          13227089410,
          11978984079,
          13137391167,
          10043032427,
          11781796374,
          10131847985,
          8137303970,
          10328860398,
          12428442042,
          9967343483,
          10457777652,
          9120674421,
          8777703481,
          11211948040,
          12774741797,
          18862763756,
          19691854014,
          19622845896,
          16747106257,
          29880047640,
          27643678917,
          21763614732,
          17991403432,
          14547933520,
          31421134556,
          27296269329,
          13295405814,
          15005899191,
          17536695361,
          16140584321,
          16107612177,
          19899531080,
          14108357740,
          11049507684,
          12292195784,
          17398267133,
          12732578043,
          12899346599,
          15714304470,
          14381086966,
          13049148579,
          13598126926,
          14258455166,
          11600013236,
          11818610610,
          14679481911,
          14215390463,
          10060167889,
          10696959020,
          11809507622,
          12830796112,
          11929918060,
          13461017711,
          13043501763,
          13618484324,
          12584512533,
          15867455424,
          14226744838,
          13918846567,
          14964182545,
          14670784817,
          10951115359,
          11047103109,
          12811242092,
          13741586582,
          20241324322,
          15772846485,
          14256222052,
          12201739194,
          10890207469,
          15155684229,
          13940434102,
          15276441134,
          12920477749,
          13688056970,
          11276963426,
          10475146018,
          13997574252,
          12588494762,
          15126077675,
          15440711038,
          16738305610,
          18873289788,
          11292383601,
          13704320630,
          12090381666,
          14075403511,
          12877327234,
          13191505725,
          10312037942,
          10308617165,
          11441239444,
          14593057877,
          17880199224,
          12473929218,
          18629943296,
          20757099184,
          21967049601,
          27272302872,
          23281758100,
          20088492893,
          31104004592,
          16831105703,
          14770243833,
          15017517758,
          20276867833,
          27178964465,
          16883292129,
          16146190946,
          16337589997,
          13498010566,
          11290893016,
          10720480962,
          14398919320,
          15855915840,
          11672582040,
          11098819124,
          8534557897,
          9070377862,
          8125837102,
          9326645840,
          15817248373,
          25479532147,
          15756303983,
          12830893778,
          13375855442,
          14419493621,
          14745890080,
          15261413038,
          14317413703,
          13520927700,
          14761125202,
          26093552821,
          24222565862,
          18710683199,
          17294574210,
          13926846861,
          13652004358,
          19740771179,
          45200463368,
          56945985763,
          41535932781,
          44699914188,
          40468027280,
          44334826666,
          33233105361,
          40616938053,
          60733630300,
          37494601692,
          30109792795,
          33410915929,
          35972039310,
          32319240157,
          29258032819,
          25817455560,
          47195935190,
          46784030909,
          45932464754,
          43918338506,
          27253895441,
          36418163554,
          43565777745,
          41572917750,
          39394416990,
          34637234789,
          53611955259,
          30616574234,
          25198853581,
          29210670920,
          45437142801,
          41874566399,
          44396871836,
          40108628454,
          39873420648,
          39889440151,
          48012285956,
          44180727529,
          41916084617,
          36021495262,
          37905036865,
          35359490535,
          31439114900,
          38955610883,
          34269369268,
          35955412703,
          28255902969,
          26268814253,
          34696091102,
          23626547717,
          42409646036,
          52029864713,
          31329000537,
          24481681873,
          31435997881,
          20742103233,
          27637026080,
          24032838645,
          22523669722,
          22674780680,
          22906118718,
          21067146937,
          22746262366,
          23809935410,
          27630991158,
          23461244507,
          25154173185,
          24013132909,
          22435821312,
          25014689475,
          19344589211,
          26244738810,
          23828509590,
          24512917348,
          23263845504,
          21249297710,
          22677674970,
          22977404620,
          23599296129,
          21998237965,
          31228051473,
          29650328701,
          22548516548,
          18102277710,
          16599472938,
          22796570548,
          22512781703,
          30226902621,
          30914259795,
          34862511022,
          32011518871,
          26006501902,
          28889391170,
          29222865881,
          36116271935,
          25312956529,
          19812472092,
          24986243611,
          19692836132,
          21727936609,
          29456642939,
          35592822986,
          32325606817,
          36196928256,
          32349808978,
          50696368718,
          34060654971,
          39433483315,
          38899067643,
          53575904724,
          55413933925,
          31854226936,
          31814355546,
          35208325408,
          32275969215,
          34269031076,
          32578127990,
          29777179889,
          28726205272,
          28032013047,
          49174290212,
          62402045158,
          48334198383,
          44300394788,
          39607240515,
          50208491286,
          50568290278,
          62691789007,
          52679737865,
          69023382175,
          78398214539,
          48174271215,
          42422321751,
          47359478734,
          54061732774,
          40416525218,
          84482912776,
          67610826680,
          53774070802,
          42089937660,
          56005721977,
          53697121740,
          49558333256,
          42499766020,
          33373635283,
          39999114805,
          33773720220,
          25876619428,
          31007383150,
          27363223090,
          27723267359,
          30038207402,
          34173841611,
          30496672724,
          25311639414,
          30600111277,
          41909736778,
          36075832186,
          28753626390,
          24832564195,
          25724364410,
          27092945370,
          26964576331,
          29005279219,
          24101926180,
          21871633186,
          22752818388,
          18765854896,
          22535930423,
          33745173825,
          35547251725,
          28408659206,
          20272845769,
          22774334998,
          20637542361,
          19885474742,
          25514602841,
          24815124419,
          25828056268,
          29061701793,
          31796212554,
          17433361641,
          18787107473,
          20103794829,
          20891861314,
          22398345285,
          23188123689,
          23029574602,
          17581542471,
          14705386138,
          17768129077,
          16621628658,
          17342819679,
          15688092552,
          14884569147,
          13364282076,
          13791868728,
          14157735481,
          17368597636,
          21253359756,
          17495480331,
          16200392492,
          16057446601,
          14566483636,
          29614324233,
          23067480378,
          18991302378,
          16313373113,
          20212848934,
          18001710283,
          22697987055,
          22162754104,
          22696753413,
          25038698173,
          31057928075,
          26528577879,
          33081467129,
          28433638008,
          31983260936,
          27605221710,
          26729035052,
          25403699845,
          23868866254,
          19860862133,
          22166205051,
          23080039949,
          25509056745,
          21539248425,
          19546290360,
          20885619828,
          18113977628,
          15983278460,
          20511110509,
          20131028906,
          18902728235,
          17405668117,
          18489602004,
          13709633698,
          13296586731,
          19306924485,
          27280502987,
          30070890104,
          24387397330,
          26207765094,
          20806963328,
          18371468576,
          18674691198,
          39131346397,
          31738430771,
          24118055831,
          22355974097,
          18627122934,
          16810411424,
          22721552948,
          19125420848,
          17548551804,
          20093903064,
          17722363229,
          15995220233,
          14257609743,
          27371684581,
          30405062665,
          23742102645,
          18516291047,
          25595422789,
          18932786754,
          21172766310,
          19164053681,
          16895079070,
          15763456158,
          17661065099,
          22307625573,
          19202671704,
          15516566862,
          17747154101,
          16632591670,
          21855226591,
          19090322927,
          16222029488,
          12707036942,
          16171746693,
          18579189588,
          18109578443,
          16211275589,
          19443499909,
          20966841512,
          16578095629,
          15908090346,
          17386204158,
          15998757133,
          20338319988,
          28220661820,
          19432937968,
          14781537792,
          14978083638,
          15995727040,
          17157714562,
          26219530404,
          25958154575,
          22967641914,
          14615490626,
          17498160238,
          17985288261,
          20794448222,
          21220463155,
          18415244464,
          15086003586,
          14429076700,
          13541376033,
          19290896267,
          20834172627,
          22748160545,
          17933201129,
          18316060208,
          14457436261,
          12172962219,
          16275851299,
          27417502801,
          22183461850,
          21383250893,
          20626269711,
          15448261277,
          14094831413,
          19752218877,
          22133497059,
          21838037128,
          18705358318,
          26281795488,
          16515693874,
          15953126340,
          19086475837,
          28626354111,
          27634826695,
          21502671027,
          25879591528,
          38478999182,
          25533062707,
          28229518513,
          22366213354,
          18704315119,
          22296131874,
          28014595631,
          19131502454,
          14057603914,
          23999841386,
          23836759957,
          26411188833,
          19825531254,
          23143541098,
          19530895889,
          16167785597,
          21589690675,
          16388555198,
          13921756199,
          18007273742,
          12769090623,
          10894785525,
          11197244172,
          11424360002,
          17299472803,
          15722555672,
          12925377999,
          14157285268,
          9776191466,
          9881471548,
          12080777893,
          14030925983,
          18061338502,
          24293791313,
          24494179209,
          16037732700,
          12334683863,
          19535744145,
          15211447193,
          16662871689,
          15294466275,
          13562957230,
          9619999078,
          9505934874,
          12344309617,
          13024154091,
          13187424144,
          10645922764,
          26796291874,
          27369692036,
          16481489511,
          28220804648,
          16179776932,
          21229909340,
          16126522783,
          14666227351,
          11172062661,
          9501221177,
          13778234614,
          13194846235,
          13876301217,
          12755505065,
          18987223729,
          13102093957,
          9466018022,
          15197063785,
          17136080906,
          13951308490,
          18629485080,
          16043881065,
          11254355757,
          9054963563,
          12164552172,
          13921257873,
          12352406833,
          15860206214,
          15748173433,
          9774183169,
          11641437834,
          18646392740,
          16360200507,
          13382637240,
          29312342666,
          17208902048,
          11724648351,
          16150857254,
          19266124733,
          18757425786,
          16636517503,
          13091199728,
          14496939024,
          8072368396,
          8872976607,
          14594098731,
          13922922903,
          14173665398,
          13292477213,
          12382419582,
          6532996574,
          8632000379,
          11244398839,
          12861105614,
          17915109769,
          12685265194,
          15830879093,
          11576463120,
          12684727326,
          15206116098,
          16830539230,
          16008767658,
          18070503166,
          17030503831,
          8876420740,
          13431866834,
          20620450770,
          19533323636,
          15302506131,
          17685495686,
          20982988937,
          23571556215,
          15333808649,
          18209969743,
          16681503199,
          25632563639,
          16745496605,
          17557050669,
          9908112156,
          10427054790,
          21891804831,
          20235707410,
          16088473629,
          15821419931,
          11256651536,
          8766710365,
          10463091281,
          18629381299,
          14156035096,
          15547362265,
          20783591093,
          16782795477,
          9116955609,
          9696829579,
          22332690614,
          19052045399,
          17419284041,
          18443524633,
          18771041399,
          13520941867,
          15332730152,
          18609741545,
          13026093219,
          18186749944,
          22642925048,
          21027599270,
          13369276367,
          20802269935,
          36333567678,
          38202099639,
          45743399154,
          42463486402,
          24816096567,
          15457044616,
          14846088335,
          21459552191,
          18509929297,
          17740965589,
          18734247914,
          15892482289,
          8546822406,
          10941123403,
          16434529708,
          13057109007,
          13364545730,
          23458681818,
          25470760032,
          23214777872,
          10642556101,
          19580808705,
          18363115560,
          21037797760,
          17065041354,
          14878001811,
          8677951273,
          8850385937,
          16518471852,
          24020076750,
          18041476023,
          12013083393,
          18504740451,
          21127089064,
          23465074882,
          45162788786,
          33327826525,
          37539999450,
          18907671369,
          14591486540,
          21655406608,
          21795481981,
          19739691429,
          15632089439,
          15010593493,
          14657862919,
          16981552654,
          12481946184,
          12096607824,
          12492225250,
          14023205651,
          15386286815,
          16350755497,
          17499453625,
          9935603640,
          8557248150,
          13670889311,
          16195518291,
          15373536703,
          14230795894,
          16315929082,
          8821353104,
          10984558039,
          12064180410,
          12583282453,
          18302588147,
          16688640823,
          17411448225,
          18364013796,
          16079711737,
          27440420623,
          27753529276,
          22942708340,
          20009556587,
          18926100582,
          14998811383,
          17217849557,
          20585056021,
          18238563509,
          23007524016,
          27231399966,
          23249531113,
          15576977870,
          14200735370,
          16191371176,
          20426082309,
          16786218830,
          14467440626,
          18546491876,
          11757911705,
          10252090340,
          16841424404,
          16368619692,
          23512477984,
          23826986482,
          17168141904,
          16038975216,
          14062754456,
          20349931313,
          15637578930,
          20308508124,
          14999352229,
          25906358731,
          18334580263,
          15849221752,
          18557078599,
          18322041914,
          16780932907,
          14818795695,
          26713710143,
          18120831899,
          12823572918,
          17965837488,
          21835784470,
          20591680941,
          16434276817,
          17708478709,
          9516825994,
          8884144998,
          13060541168,
          22946059125,
          19560363854,
          17621046717,
          20242323690,
          13130928217,
          12464301922,
          17688391310,
          23066821734,
          17897150206,
          26946275878,
          16764804299,
          10798098671,
          15762284723,
          18712714223,
          14722317220,
          20643507800,
          18461527259,
          18771106339,
          12098209717,
          11802651633,
          16034549271,
          17870598937,
          18994979566,
          13796915736,
          14250100093,
          6227961237,
          7578351650,
          10153070907,
          10139774963,
          9774451820,
          12033514861,
          10061619355,
          5804676208,
          5486230123,
          8794491050,
          9274845260,
          8355638578,
          17499038202,
          13113767755,
          6798512624,
          7491625206,
          9401189650,
          10416747806,
          8350692785,
          9009111996,
          10412565245,
          7175324564,
          9909510925,
          13092820173,
          25367291294,
          32705548427,
          22813499245,
          19974623205,
          21618154775,
          13930073427,
          19306919714,
          14507311208,
          23254218281,
          14248351007,
          20806964347,
          11006973190,
          11632744705,
          15279963349,
          42048003440,
          38864492427,
          28581002122,
          20920539099,
          10964962767,
          10717455214,
          15028035663,
          11798011594,
          11939561598,
          9723646871,
          7979913378,
          5978745776,
          9651002684,
          14080099208,
          12040670755,
          11242676044,
          9706372376,
          5483308196,
          5074160558,
          4486976868,
          7275411870,
          7639405818,
          9836925304,
          6857935276,
          6213645709,
          5672609405,
          5174128454,
          6120359523,
          5089212680,
          5752205180,
          6227269815,
          5706183865,
          3282499999,
          3362005848,
          5151109364,
          8812883119,
          7830915428,
          6032859783,
          9297811507,
          5077258586,
          3350092519,
          4943628091,
          6684951715,
          4217182733,
          5297471739,
          4835831923,
          2626153345,
          3942720070,
          3282098400,
          4091530737,
          4991669631,
          4132233940,
          4055668253,
          3018513333,
          2399674550,
          3765758498,
          3392972131,
          6404416893,
          4001786456,
          4977252792,
          2565213548,
          3495088905,
          7990438824,
          5830173253,
          6314904311,
          12230193038,
          7684148212,
          15444626014,
          6774614499,
          8454485431,
          7599462786,
          10354880595,
          6432638856,
          8528894754,
          8859250310,
          7517988734,
          8264507375,
          8180274691,
          10598973448,
          8395315241,
          8124465373,
          5803653357,
          8801292300,
          9180418120,
          6585191019,
          8116969489,
          10558081069,
          8169519805,
          5843302512,
          6926696531,
          6919871886,
          8030277434,
          7806089579,
          10524969124,
          8397387897,
          5064007416,
          5319698775,
          9363855114,
          9249575045,
          10015035156,
          12704861676,
          9802443159,
          5491437195,
          6959144003,
          7703604237,
          8721608198,
          9189387004,
          9013236167,
          8909129423,
          5657686235,
          5727967432,
          7239824677,
          6323676957,
          7701847224,
          7080950926,
          9922240199,
          4389045367,
          5020886238,
          5245153345,
          6854058349,
          7130327525,
          9457897583,
          12665194936,
          14917080154,
          11480965122,
          15711468959,
          16159781303,
          12715339905,
          9364980166,
          12467445117,
          10317822213,
          9170565472,
          10978325507,
          10758627746,
          12484103560,
          11012966854,
          10913669383,
          6614309912,
          6990313307,
          8585750760,
          8346890042,
          9136176952,
          9724496987,
          9149379763,
          5556443606,
          6199721188,
          9643826401,
          10398322335,
          10319231689,
          8263191830,
          8356130492,
          5016362733,
          6361497715,
          8380134275,
          8877222956,
          11010714187,
          12546950499,
          16298099411,
          8036468153,
          7898126856,
          9648882546,
          9134015143,
          13779745451,
          11324135406,
          12044274581,
          6970642726,
          6607451862,
          8438191338,
          8677255481,
          14356524696,
          14008145806,
          7691759733,
          4796651246,
          6539641957,
          8625783201,
          7536785767,
          8306390869,
          6578438233,
          9498261360,
          9623243037,
          6883942236,
          9895102899,
          6129516088,
          9945549603,
          8353828312,
          9047198660,
          4647630864,
          4711210241,
          6748889346,
          5595959668,
          6352161579,
          5673124255,
          4796110259,
          2951655969,
          3386768865,
          4534841049,
          6820047160,
          7101647419,
          6321689859,
          5451414258,
          3216737652,
          6359610561,
          5884674572,
          5363439784,
          5984512548,
          5640027197,
          6097746022,
          3472274607,
          3747042696,
          9246593033,
          8704411776,
          7919894455,
          4536041931,
          4610831509,
          10788500406,
          4559112981,
          6031384958,
          6214125203,
          7462905534,
          7328564880,
          6281023479,
          4875187477,
          3820038842,
          5210480121,
          7171072578,
          11731457711,
          8477657143,
          8290615074,
          5026191704,
          6937581709,
          8619702292,
          7686042202,
          7135265016,
          5677228612,
          12895131248,
          5136809625,
          6343966490,
          7858509087,
          5683423776,
          6034088075,
          8905008384,
          6468885150,
          4299007854,
          4392863807,
          6336468234,
          4905225892,
          6379007000,
          11114853969,
          10627449471,
          4380084234,
          4329306566,
          6678090758,
          5814708445,
          6018487800,
          7366830684,
          4668158260,
          4101305643,
          4480604100,
          6344373569,
          4163381707,
          5781548155,
          4291339248,
          3800973336,
          2497302218,
          4003005547,
          4391613314,
          7634860636,
          6448512422,
          4710581074,
          4861242484,
          2866049749,
          2963395076,
          5837881974,
          5812855406,
          5870081833,
          3760304518,
          3353025102,
          2291124840,
          3054625661,
          4083364724,
          4483923893,
          4976573383,
          14208462072,
          9645084584,
          4871231360,
          4105056995,
          5077248383,
          7244623133,
          7191868448,
          5104531920,
          5396997823,
          2423247747,
          2624065031,
          4855588534,
          11304916729,
          5023904190,
          6593153505,
          6104510092,
          2943590996,
          3151878318,
          3887968912,
          4417491902,
          4987397046,
          4907290296,
          4598495496,
          2081625742,
          4339499949,
          7693700923,
          6813819740,
          4979469106,
          5538958553,
          4348584771,
          2819575929,
          3032716258,
          5916674789,
          4405868861,
          5156431986,
          5191732312,
          3460791634,
          2101436678,
          3086456944,
          4394930984,
          3544861160,
          5533036096,
          6658092168,
          5529687537,
          3155292192,
          5054880180,
          8420552922,
          4742827302,
          5127524863,
          5403759057,
          4941208729,
          2578994988,
          3315554175,
          7020801716,
          5254966125,
          5416504273,
          5003930677,
          4575141511,
          2429214718,
          2923337883,
          8846928526,
          5032686973,
          4354138855,
          5035110867,
          6747486127,
          4212179634,
          5248406817,
          14362295879,
          15888690475,
          9439066475,
          11196672635,
          7493399771,
          4226112731,
          4358528382,
          7534051038,
          6477922747,
          10628825648,
          9004197724,
          7622864055,
          4845080427,
          8867152645,
          8104122602,
          9203228152,
          6751627017,
          24709695029,
          14740624457,
          10228351203,
          7951011698,
          14322027970,
          13087862495,
          12626326991,
          14651619483,
          11881648738,
          8064677046,
          7716048818,
          12866464824,
          13653500841,
          13372200584,
          7828437946,
          12141148820,
          5362623390,
          8054814154,
          10574810069,
          9910633038,
          8945151861,
          8107789163,
          10866891430,
          9130124831,
          8278465782,
          16149367134,
          15383072559,
          12790612571,
          14766891042,
          12543458699,
          10613312823,
          7369608905,
          17989249470,
          11391132228,
          12576395493,
          12608711052,
          10259157898,
          6866555430,
          7410453853,
          10366536490,
          10619179629,
          12652290807,
          12616530536,
          16137246310,
          7995772945,
          9450799236,
          8036302656,
          10668581464,
          14161342927,
          15660799060,
          12536968996,
          6888195427,
          6871481744,
          6906765990,
          12910543630,
          19332933581,
          11044564896,
          10860953290,
          5970741680,
          6490053615,
          13830287095,
          14891130716,
          29042100476,
          22575246883,
          23623839263,
          12250316867,
          9405587417,
          9700630000,
          11063317095,
          10441017520,
          11900028080,
          11405278376,
          5297826161,
          4578471955,
          13923771728,
          16182147521,
          10134722960,
          9302247037,
          9975117607,
          5144367230,
          7296214994,
          8948195551,
          10173440062,
          10807883277,
          8895583113,
          7186143091,
          4647754021,
          5438100035,
          7277068110,
          9520885493,
          9660628536,
          9941841732,
          13634203177,
          6474444159,
          7347245813,
          13022696866,
          18271237044,
          21448973822,
          23734481937,
          17057114638,
          17932379943,
          23355830478,
          15163110589,
          20341598470,
          18897136867,
          18058908246,
          12822717059,
          10701688842,
          14620450464,
          17504464351,
          21090315368,
          32885894265,
          28469171094,
          16880101987,
          12024340617,
          13643324467,
          26772963830,
          47706899137,
          34938642613,
          22457177587,
          26135487051,
          11926623780,
          15783924355,
          28806262507,
          26917010932,
          22028114691,
          25434810823,
          33505075433,
          20199855932,
          19938757095,
          21162220224,
          34166976701,
          36605316331,
          22213647922,
          20574952329,
          13242137554,
          12156660941,
          18603921705,
          18505553577,
          18753082145,
          16419674157,
          12712701619,
          9389066783,
          10499881424,
          16002098681,
          22076539151,
          16010734587,
          14476330517,
          15214447092,
          8956926798,
          9931108526,
          19055143129,
          18279773833,
          16872482726,
          14076734489,
          22104869556,
          29930408174,
          25486284994,
          21925843181,
          19441391169,
          17711869375,
          15183777035,
          20399982867,
          9918642130,
          9394387894,
          12063858733,
          11054442653,
          14000234760,
          13989030260,
          10622333862,
          11820785577,
          11379192678,
          15032246816,
          18266894653,
          20005057445,
          13163903903,
          12862183229,
          8283229638,
          8783447639,
          13008587255,
          11743187337,
          11791662158,
          10861947179,
          12278653601,
          6795916454,
          5908941395,
          13352264795,
          12444516140,
          14666902956,
          13035465176,
          14449438097,
          9407051320,
          8747800800,
          31228143948,
          37643853967,
          25155809461,
          45623656317,
          22257061429,
          10000027764,
          14650794791,
          18949181813,
          19846044324,
          17411416736,
          15065849797,
          15290700646,
          8661024535,
          11126903059,
          14082454300,
          13331489271,
          15480034434,
          13606583873,
          18220286186,
          9096091805,
          7910768788,
          10377300126,
          19184721538,
          17142905351,
          14472382154,
          15793876596,
          12733651076,
          9878388158,
          17838856988,
          21022514455,
          15275373778,
          16115123753,
          15933353456,
          7423703673,
          9418141333,
          23137744903,
          13235546063,
          11694054195,
          11771834016,
          12861158844,
          6584792001,
          8396416013,
          12281551839,
          9421757718,
          16121324440,
          20252514386,
          31131942647,
          11586293705,
          10857947538,
          22627377457,
          15269945822,
          14578679176,
          15230095766,
          12751638331,
          8565105946,
          10517709666,
          18305490390,
          20446664416,
          16739123962,
          15035622003,
          17705629736,
          10360198325,
          13845913681,
          18723199034,
          24468405650,
          16040945448,
          25293745810,
          15993893521,
          15198233287,
          8959236446,
          18334852719,
          14045773047,
          16135380637,
          20217639556,
          21400241741,
          17844091431,
          21139601426,
          67668132244,
          26041995921,
          24264218606,
          23468291180,
          17907141655,
          9361014219,
          13595441987,
          21653090666,
          16383053029,
          15825365408,
          16345801912,
          13275561555,
          6676568717,
          9207267415,
          11968963282,
          13249483464,
          12766015263,
          10723280428,
          16857181970,
          11765811307,
          9375535539,
          12282035835,
          18028996056,
          20359545410,
          13946434277,
          15526218255,
          6646876013,
          11800443265,
          12520444224,
          11406800197,
          16709600747,
          13632325040,
          25825618367,
          11124608320,
          10718443487,
          15887712451,
          12795818970,
          15355180967,
          12162634681,
          13759640866,
          8170291680,
          10155470375,
          16819033263,
          15356783863,
          18159056422,
          18437147349,
          19112788620,
          10797825021,
          13180663011,
          19912841456,
          16658812503,
          14119729962,
          17336033595,
          17023020294,
          10252590559,
          11126215671,
          17826446789,
          25482371785,
          20148256472,
          18051447791,
          14879264082,
          8152969183,
          8458690205,
          17414044416,
          14067361080,
          14954047093,
          15327769940,
          13489061564,
          9372169184,
          9189490605,
          21434687898,
          22003780898,
          17012396419,
          15150712321,
          17043738652,
          8557834553,
          14559296242,
          17328615363,
          15541911074,
          17876984551,
          16128627601,
          22560233078,
          13597102184,
          9801434566,
          18971841402,
          22185845095,
          22382690746,
          19760409505,
          20215438328,
          9639457439,
          15667779706,
          17110200696,
          17894057485,
          41887574364,
          35352318438,
          32303261101,
          29210133088,
          47418730187,
          55417771668,
          56686078066,
          52010205682,
          35743352141,
          32701369872,
          26650658846,
          28348163224,
          35445557613,
          29823634432,
          29785491216,
          51619069348,
          36775716442,
          38835184688,
          27901454185,
          51544793988,
          39902959158,
          43383987191,
          32362724276,
          27622629486,
          30670867436,
          28018113530,
          47284967570,
          36839829742,
          56799745752,
          60568296606,
          52853668566,
          22574636761,
          20943378971,
          57029832059,
          58416417599,
          35968053196,
          42971675764,
          34895127659,
          28756190559,
          25069616984,
          46536359669,
          35418700472,
          48946681636,
          58879190250,
          66383827229,
          31579389836,
          24780768375,
          34496081389,
          23083678195,
          17651873225,
          22247726776,
          24091627403,
          14305648523,
          13440907792,
          26981583962
         ],
         "yaxis": "y"
        }
       ],
       "layout": {
        "legend": {
         "tracegroupgap": 0
        },
        "template": {
         "data": {
          "bar": [
           {
            "error_x": {
             "color": "#2a3f5f"
            },
            "error_y": {
             "color": "#2a3f5f"
            },
            "marker": {
             "line": {
              "color": "#E5ECF6",
              "width": 0.5
             },
             "pattern": {
              "fillmode": "overlay",
              "size": 10,
              "solidity": 0.2
             }
            },
            "type": "bar"
           }
          ],
          "barpolar": [
           {
            "marker": {
             "line": {
              "color": "#E5ECF6",
              "width": 0.5
             },
             "pattern": {
              "fillmode": "overlay",
              "size": 10,
              "solidity": 0.2
             }
            },
            "type": "barpolar"
           }
          ],
          "carpet": [
           {
            "aaxis": {
             "endlinecolor": "#2a3f5f",
             "gridcolor": "white",
             "linecolor": "white",
             "minorgridcolor": "white",
             "startlinecolor": "#2a3f5f"
            },
            "baxis": {
             "endlinecolor": "#2a3f5f",
             "gridcolor": "white",
             "linecolor": "white",
             "minorgridcolor": "white",
             "startlinecolor": "#2a3f5f"
            },
            "type": "carpet"
           }
          ],
          "choropleth": [
           {
            "colorbar": {
             "outlinewidth": 0,
             "ticks": ""
            },
            "type": "choropleth"
           }
          ],
          "contour": [
           {
            "colorbar": {
             "outlinewidth": 0,
             "ticks": ""
            },
            "colorscale": [
             [
              0,
              "#0d0887"
             ],
             [
              0.1111111111111111,
              "#46039f"
             ],
             [
              0.2222222222222222,
              "#7201a8"
             ],
             [
              0.3333333333333333,
              "#9c179e"
             ],
             [
              0.4444444444444444,
              "#bd3786"
             ],
             [
              0.5555555555555556,
              "#d8576b"
             ],
             [
              0.6666666666666666,
              "#ed7953"
             ],
             [
              0.7777777777777778,
              "#fb9f3a"
             ],
             [
              0.8888888888888888,
              "#fdca26"
             ],
             [
              1,
              "#f0f921"
             ]
            ],
            "type": "contour"
           }
          ],
          "contourcarpet": [
           {
            "colorbar": {
             "outlinewidth": 0,
             "ticks": ""
            },
            "type": "contourcarpet"
           }
          ],
          "heatmap": [
           {
            "colorbar": {
             "outlinewidth": 0,
             "ticks": ""
            },
            "colorscale": [
             [
              0,
              "#0d0887"
             ],
             [
              0.1111111111111111,
              "#46039f"
             ],
             [
              0.2222222222222222,
              "#7201a8"
             ],
             [
              0.3333333333333333,
              "#9c179e"
             ],
             [
              0.4444444444444444,
              "#bd3786"
             ],
             [
              0.5555555555555556,
              "#d8576b"
             ],
             [
              0.6666666666666666,
              "#ed7953"
             ],
             [
              0.7777777777777778,
              "#fb9f3a"
             ],
             [
              0.8888888888888888,
              "#fdca26"
             ],
             [
              1,
              "#f0f921"
             ]
            ],
            "type": "heatmap"
           }
          ],
          "histogram": [
           {
            "marker": {
             "pattern": {
              "fillmode": "overlay",
              "size": 10,
              "solidity": 0.2
             }
            },
            "type": "histogram"
           }
          ],
          "histogram2d": [
           {
            "colorbar": {
             "outlinewidth": 0,
             "ticks": ""
            },
            "colorscale": [
             [
              0,
              "#0d0887"
             ],
             [
              0.1111111111111111,
              "#46039f"
             ],
             [
              0.2222222222222222,
              "#7201a8"
             ],
             [
              0.3333333333333333,
              "#9c179e"
             ],
             [
              0.4444444444444444,
              "#bd3786"
             ],
             [
              0.5555555555555556,
              "#d8576b"
             ],
             [
              0.6666666666666666,
              "#ed7953"
             ],
             [
              0.7777777777777778,
              "#fb9f3a"
             ],
             [
              0.8888888888888888,
              "#fdca26"
             ],
             [
              1,
              "#f0f921"
             ]
            ],
            "type": "histogram2d"
           }
          ],
          "histogram2dcontour": [
           {
            "colorbar": {
             "outlinewidth": 0,
             "ticks": ""
            },
            "colorscale": [
             [
              0,
              "#0d0887"
             ],
             [
              0.1111111111111111,
              "#46039f"
             ],
             [
              0.2222222222222222,
              "#7201a8"
             ],
             [
              0.3333333333333333,
              "#9c179e"
             ],
             [
              0.4444444444444444,
              "#bd3786"
             ],
             [
              0.5555555555555556,
              "#d8576b"
             ],
             [
              0.6666666666666666,
              "#ed7953"
             ],
             [
              0.7777777777777778,
              "#fb9f3a"
             ],
             [
              0.8888888888888888,
              "#fdca26"
             ],
             [
              1,
              "#f0f921"
             ]
            ],
            "type": "histogram2dcontour"
           }
          ],
          "mesh3d": [
           {
            "colorbar": {
             "outlinewidth": 0,
             "ticks": ""
            },
            "type": "mesh3d"
           }
          ],
          "parcoords": [
           {
            "line": {
             "colorbar": {
              "outlinewidth": 0,
              "ticks": ""
             }
            },
            "type": "parcoords"
           }
          ],
          "pie": [
           {
            "automargin": true,
            "type": "pie"
           }
          ],
          "scatter": [
           {
            "fillpattern": {
             "fillmode": "overlay",
             "size": 10,
             "solidity": 0.2
            },
            "type": "scatter"
           }
          ],
          "scatter3d": [
           {
            "line": {
             "colorbar": {
              "outlinewidth": 0,
              "ticks": ""
             }
            },
            "marker": {
             "colorbar": {
              "outlinewidth": 0,
              "ticks": ""
             }
            },
            "type": "scatter3d"
           }
          ],
          "scattercarpet": [
           {
            "marker": {
             "colorbar": {
              "outlinewidth": 0,
              "ticks": ""
             }
            },
            "type": "scattercarpet"
           }
          ],
          "scattergeo": [
           {
            "marker": {
             "colorbar": {
              "outlinewidth": 0,
              "ticks": ""
             }
            },
            "type": "scattergeo"
           }
          ],
          "scattergl": [
           {
            "marker": {
             "colorbar": {
              "outlinewidth": 0,
              "ticks": ""
             }
            },
            "type": "scattergl"
           }
          ],
          "scattermap": [
           {
            "marker": {
             "colorbar": {
              "outlinewidth": 0,
              "ticks": ""
             }
            },
            "type": "scattermap"
           }
          ],
          "scattermapbox": [
           {
            "marker": {
             "colorbar": {
              "outlinewidth": 0,
              "ticks": ""
             }
            },
            "type": "scattermapbox"
           }
          ],
          "scatterpolar": [
           {
            "marker": {
             "colorbar": {
              "outlinewidth": 0,
              "ticks": ""
             }
            },
            "type": "scatterpolar"
           }
          ],
          "scatterpolargl": [
           {
            "marker": {
             "colorbar": {
              "outlinewidth": 0,
              "ticks": ""
             }
            },
            "type": "scatterpolargl"
           }
          ],
          "scatterternary": [
           {
            "marker": {
             "colorbar": {
              "outlinewidth": 0,
              "ticks": ""
             }
            },
            "type": "scatterternary"
           }
          ],
          "surface": [
           {
            "colorbar": {
             "outlinewidth": 0,
             "ticks": ""
            },
            "colorscale": [
             [
              0,
              "#0d0887"
             ],
             [
              0.1111111111111111,
              "#46039f"
             ],
             [
              0.2222222222222222,
              "#7201a8"
             ],
             [
              0.3333333333333333,
              "#9c179e"
             ],
             [
              0.4444444444444444,
              "#bd3786"
             ],
             [
              0.5555555555555556,
              "#d8576b"
             ],
             [
              0.6666666666666666,
              "#ed7953"
             ],
             [
              0.7777777777777778,
              "#fb9f3a"
             ],
             [
              0.8888888888888888,
              "#fdca26"
             ],
             [
              1,
              "#f0f921"
             ]
            ],
            "type": "surface"
           }
          ],
          "table": [
           {
            "cells": {
             "fill": {
              "color": "#EBF0F8"
             },
             "line": {
              "color": "white"
             }
            },
            "header": {
             "fill": {
              "color": "#C8D4E3"
             },
             "line": {
              "color": "white"
             }
            },
            "type": "table"
           }
          ]
         },
         "layout": {
          "annotationdefaults": {
           "arrowcolor": "#2a3f5f",
           "arrowhead": 0,
           "arrowwidth": 1
          },
          "autotypenumbers": "strict",
          "coloraxis": {
           "colorbar": {
            "outlinewidth": 0,
            "ticks": ""
           }
          },
          "colorscale": {
           "diverging": [
            [
             0,
             "#8e0152"
            ],
            [
             0.1,
             "#c51b7d"
            ],
            [
             0.2,
             "#de77ae"
            ],
            [
             0.3,
             "#f1b6da"
            ],
            [
             0.4,
             "#fde0ef"
            ],
            [
             0.5,
             "#f7f7f7"
            ],
            [
             0.6,
             "#e6f5d0"
            ],
            [
             0.7,
             "#b8e186"
            ],
            [
             0.8,
             "#7fbc41"
            ],
            [
             0.9,
             "#4d9221"
            ],
            [
             1,
             "#276419"
            ]
           ],
           "sequential": [
            [
             0,
             "#0d0887"
            ],
            [
             0.1111111111111111,
             "#46039f"
            ],
            [
             0.2222222222222222,
             "#7201a8"
            ],
            [
             0.3333333333333333,
             "#9c179e"
            ],
            [
             0.4444444444444444,
             "#bd3786"
            ],
            [
             0.5555555555555556,
             "#d8576b"
            ],
            [
             0.6666666666666666,
             "#ed7953"
            ],
            [
             0.7777777777777778,
             "#fb9f3a"
            ],
            [
             0.8888888888888888,
             "#fdca26"
            ],
            [
             1,
             "#f0f921"
            ]
           ],
           "sequentialminus": [
            [
             0,
             "#0d0887"
            ],
            [
             0.1111111111111111,
             "#46039f"
            ],
            [
             0.2222222222222222,
             "#7201a8"
            ],
            [
             0.3333333333333333,
             "#9c179e"
            ],
            [
             0.4444444444444444,
             "#bd3786"
            ],
            [
             0.5555555555555556,
             "#d8576b"
            ],
            [
             0.6666666666666666,
             "#ed7953"
            ],
            [
             0.7777777777777778,
             "#fb9f3a"
            ],
            [
             0.8888888888888888,
             "#fdca26"
            ],
            [
             1,
             "#f0f921"
            ]
           ]
          },
          "colorway": [
           "#636efa",
           "#EF553B",
           "#00cc96",
           "#ab63fa",
           "#FFA15A",
           "#19d3f3",
           "#FF6692",
           "#B6E880",
           "#FF97FF",
           "#FECB52"
          ],
          "font": {
           "color": "#2a3f5f"
          },
          "geo": {
           "bgcolor": "white",
           "lakecolor": "white",
           "landcolor": "#E5ECF6",
           "showlakes": true,
           "showland": true,
           "subunitcolor": "white"
          },
          "hoverlabel": {
           "align": "left"
          },
          "hovermode": "closest",
          "mapbox": {
           "style": "light"
          },
          "paper_bgcolor": "white",
          "plot_bgcolor": "#E5ECF6",
          "polar": {
           "angularaxis": {
            "gridcolor": "white",
            "linecolor": "white",
            "ticks": ""
           },
           "bgcolor": "#E5ECF6",
           "radialaxis": {
            "gridcolor": "white",
            "linecolor": "white",
            "ticks": ""
           }
          },
          "scene": {
           "xaxis": {
            "backgroundcolor": "#E5ECF6",
            "gridcolor": "white",
            "gridwidth": 2,
            "linecolor": "white",
            "showbackground": true,
            "ticks": "",
            "zerolinecolor": "white"
           },
           "yaxis": {
            "backgroundcolor": "#E5ECF6",
            "gridcolor": "white",
            "gridwidth": 2,
            "linecolor": "white",
            "showbackground": true,
            "ticks": "",
            "zerolinecolor": "white"
           },
           "zaxis": {
            "backgroundcolor": "#E5ECF6",
            "gridcolor": "white",
            "gridwidth": 2,
            "linecolor": "white",
            "showbackground": true,
            "ticks": "",
            "zerolinecolor": "white"
           }
          },
          "shapedefaults": {
           "line": {
            "color": "#2a3f5f"
           }
          },
          "ternary": {
           "aaxis": {
            "gridcolor": "white",
            "linecolor": "white",
            "ticks": ""
           },
           "baxis": {
            "gridcolor": "white",
            "linecolor": "white",
            "ticks": ""
           },
           "bgcolor": "#E5ECF6",
           "caxis": {
            "gridcolor": "white",
            "linecolor": "white",
            "ticks": ""
           }
          },
          "title": {
           "x": 0.05
          },
          "xaxis": {
           "automargin": true,
           "gridcolor": "white",
           "linecolor": "white",
           "ticks": "",
           "title": {
            "standoff": 15
           },
           "zerolinecolor": "white",
           "zerolinewidth": 2
          },
          "yaxis": {
           "automargin": true,
           "gridcolor": "white",
           "linecolor": "white",
           "ticks": "",
           "title": {
            "standoff": 15
           },
           "zerolinecolor": "white",
           "zerolinewidth": 2
          }
         }
        },
        "title": {
         "text": "Ethereum (ETH/USDT) Daily Trading Volume"
        },
        "xaxis": {
         "anchor": "y",
         "domain": [
          0,
          1
         ],
         "title": {
          "text": "index"
         }
        },
        "yaxis": {
         "anchor": "x",
         "domain": [
          0,
          1
         ],
         "title": {
          "text": "Volume"
         }
        }
       }
      }
     },
     "metadata": {},
     "output_type": "display_data"
    }
   ],
   "source": [
    "px.line(eth_data, x=eth_data.index, y='Volume', title='Ethereum (ETH/USDT) Daily Trading Volume')"
   ]
  },
  {
   "cell_type": "code",
   "execution_count": 32,
   "id": "7e427215",
   "metadata": {},
   "outputs": [
    {
     "data": {
      "application/vnd.plotly.v1+json": {
       "config": {
        "plotlyServerURL": "https://plot.ly"
       },
       "data": [
        {
         "hovertemplate": "variable=Close<br>index=%{x}<br>value=%{y}<extra></extra>",
         "legendgroup": "Close",
         "line": {
          "color": "#636efa",
          "dash": "solid"
         },
         "marker": {
          "symbol": "circle"
         },
         "mode": "lines",
         "name": "Close",
         "showlegend": true,
         "type": "scattergl",
         "x": {
          "bdata": "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",
          "dtype": "i2"
         },
         "xaxis": "x",
         "y": {
          "bdata": "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",
          "dtype": "f8"
         },
         "yaxis": "y"
        },
        {
         "hovertemplate": "variable=rolling_mean_30<br>index=%{x}<br>value=%{y}<extra></extra>",
         "legendgroup": "rolling_mean_30",
         "line": {
          "color": "#EF553B",
          "dash": "solid"
         },
         "marker": {
          "symbol": "circle"
         },
         "mode": "lines",
         "name": "rolling_mean_30",
         "showlegend": true,
         "type": "scattergl",
         "x": {
          "bdata": "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",
          "dtype": "i2"
         },
         "xaxis": "x",
         "y": {
          "bdata": "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",
          "dtype": "f8"
         },
         "yaxis": "y"
        }
       ],
       "layout": {
        "legend": {
         "title": {
          "text": "variable"
         },
         "tracegroupgap": 0
        },
        "template": {
         "data": {
          "bar": [
           {
            "error_x": {
             "color": "#2a3f5f"
            },
            "error_y": {
             "color": "#2a3f5f"
            },
            "marker": {
             "line": {
              "color": "#E5ECF6",
              "width": 0.5
             },
             "pattern": {
              "fillmode": "overlay",
              "size": 10,
              "solidity": 0.2
             }
            },
            "type": "bar"
           }
          ],
          "barpolar": [
           {
            "marker": {
             "line": {
              "color": "#E5ECF6",
              "width": 0.5
             },
             "pattern": {
              "fillmode": "overlay",
              "size": 10,
              "solidity": 0.2
             }
            },
            "type": "barpolar"
           }
          ],
          "carpet": [
           {
            "aaxis": {
             "endlinecolor": "#2a3f5f",
             "gridcolor": "white",
             "linecolor": "white",
             "minorgridcolor": "white",
             "startlinecolor": "#2a3f5f"
            },
            "baxis": {
             "endlinecolor": "#2a3f5f",
             "gridcolor": "white",
             "linecolor": "white",
             "minorgridcolor": "white",
             "startlinecolor": "#2a3f5f"
            },
            "type": "carpet"
           }
          ],
          "choropleth": [
           {
            "colorbar": {
             "outlinewidth": 0,
             "ticks": ""
            },
            "type": "choropleth"
           }
          ],
          "contour": [
           {
            "colorbar": {
             "outlinewidth": 0,
             "ticks": ""
            },
            "colorscale": [
             [
              0,
              "#0d0887"
             ],
             [
              0.1111111111111111,
              "#46039f"
             ],
             [
              0.2222222222222222,
              "#7201a8"
             ],
             [
              0.3333333333333333,
              "#9c179e"
             ],
             [
              0.4444444444444444,
              "#bd3786"
             ],
             [
              0.5555555555555556,
              "#d8576b"
             ],
             [
              0.6666666666666666,
              "#ed7953"
             ],
             [
              0.7777777777777778,
              "#fb9f3a"
             ],
             [
              0.8888888888888888,
              "#fdca26"
             ],
             [
              1,
              "#f0f921"
             ]
            ],
            "type": "contour"
           }
          ],
          "contourcarpet": [
           {
            "colorbar": {
             "outlinewidth": 0,
             "ticks": ""
            },
            "type": "contourcarpet"
           }
          ],
          "heatmap": [
           {
            "colorbar": {
             "outlinewidth": 0,
             "ticks": ""
            },
            "colorscale": [
             [
              0,
              "#0d0887"
             ],
             [
              0.1111111111111111,
              "#46039f"
             ],
             [
              0.2222222222222222,
              "#7201a8"
             ],
             [
              0.3333333333333333,
              "#9c179e"
             ],
             [
              0.4444444444444444,
              "#bd3786"
             ],
             [
              0.5555555555555556,
              "#d8576b"
             ],
             [
              0.6666666666666666,
              "#ed7953"
             ],
             [
              0.7777777777777778,
              "#fb9f3a"
             ],
             [
              0.8888888888888888,
              "#fdca26"
             ],
             [
              1,
              "#f0f921"
             ]
            ],
            "type": "heatmap"
           }
          ],
          "histogram": [
           {
            "marker": {
             "pattern": {
              "fillmode": "overlay",
              "size": 10,
              "solidity": 0.2
             }
            },
            "type": "histogram"
           }
          ],
          "histogram2d": [
           {
            "colorbar": {
             "outlinewidth": 0,
             "ticks": ""
            },
            "colorscale": [
             [
              0,
              "#0d0887"
             ],
             [
              0.1111111111111111,
              "#46039f"
             ],
             [
              0.2222222222222222,
              "#7201a8"
             ],
             [
              0.3333333333333333,
              "#9c179e"
             ],
             [
              0.4444444444444444,
              "#bd3786"
             ],
             [
              0.5555555555555556,
              "#d8576b"
             ],
             [
              0.6666666666666666,
              "#ed7953"
             ],
             [
              0.7777777777777778,
              "#fb9f3a"
             ],
             [
              0.8888888888888888,
              "#fdca26"
             ],
             [
              1,
              "#f0f921"
             ]
            ],
            "type": "histogram2d"
           }
          ],
          "histogram2dcontour": [
           {
            "colorbar": {
             "outlinewidth": 0,
             "ticks": ""
            },
            "colorscale": [
             [
              0,
              "#0d0887"
             ],
             [
              0.1111111111111111,
              "#46039f"
             ],
             [
              0.2222222222222222,
              "#7201a8"
             ],
             [
              0.3333333333333333,
              "#9c179e"
             ],
             [
              0.4444444444444444,
              "#bd3786"
             ],
             [
              0.5555555555555556,
              "#d8576b"
             ],
             [
              0.6666666666666666,
              "#ed7953"
             ],
             [
              0.7777777777777778,
              "#fb9f3a"
             ],
             [
              0.8888888888888888,
              "#fdca26"
             ],
             [
              1,
              "#f0f921"
             ]
            ],
            "type": "histogram2dcontour"
           }
          ],
          "mesh3d": [
           {
            "colorbar": {
             "outlinewidth": 0,
             "ticks": ""
            },
            "type": "mesh3d"
           }
          ],
          "parcoords": [
           {
            "line": {
             "colorbar": {
              "outlinewidth": 0,
              "ticks": ""
             }
            },
            "type": "parcoords"
           }
          ],
          "pie": [
           {
            "automargin": true,
            "type": "pie"
           }
          ],
          "scatter": [
           {
            "fillpattern": {
             "fillmode": "overlay",
             "size": 10,
             "solidity": 0.2
            },
            "type": "scatter"
           }
          ],
          "scatter3d": [
           {
            "line": {
             "colorbar": {
              "outlinewidth": 0,
              "ticks": ""
             }
            },
            "marker": {
             "colorbar": {
              "outlinewidth": 0,
              "ticks": ""
             }
            },
            "type": "scatter3d"
           }
          ],
          "scattercarpet": [
           {
            "marker": {
             "colorbar": {
              "outlinewidth": 0,
              "ticks": ""
             }
            },
            "type": "scattercarpet"
           }
          ],
          "scattergeo": [
           {
            "marker": {
             "colorbar": {
              "outlinewidth": 0,
              "ticks": ""
             }
            },
            "type": "scattergeo"
           }
          ],
          "scattergl": [
           {
            "marker": {
             "colorbar": {
              "outlinewidth": 0,
              "ticks": ""
             }
            },
            "type": "scattergl"
           }
          ],
          "scattermap": [
           {
            "marker": {
             "colorbar": {
              "outlinewidth": 0,
              "ticks": ""
             }
            },
            "type": "scattermap"
           }
          ],
          "scattermapbox": [
           {
            "marker": {
             "colorbar": {
              "outlinewidth": 0,
              "ticks": ""
             }
            },
            "type": "scattermapbox"
           }
          ],
          "scatterpolar": [
           {
            "marker": {
             "colorbar": {
              "outlinewidth": 0,
              "ticks": ""
             }
            },
            "type": "scatterpolar"
           }
          ],
          "scatterpolargl": [
           {
            "marker": {
             "colorbar": {
              "outlinewidth": 0,
              "ticks": ""
             }
            },
            "type": "scatterpolargl"
           }
          ],
          "scatterternary": [
           {
            "marker": {
             "colorbar": {
              "outlinewidth": 0,
              "ticks": ""
             }
            },
            "type": "scatterternary"
           }
          ],
          "surface": [
           {
            "colorbar": {
             "outlinewidth": 0,
             "ticks": ""
            },
            "colorscale": [
             [
              0,
              "#0d0887"
             ],
             [
              0.1111111111111111,
              "#46039f"
             ],
             [
              0.2222222222222222,
              "#7201a8"
             ],
             [
              0.3333333333333333,
              "#9c179e"
             ],
             [
              0.4444444444444444,
              "#bd3786"
             ],
             [
              0.5555555555555556,
              "#d8576b"
             ],
             [
              0.6666666666666666,
              "#ed7953"
             ],
             [
              0.7777777777777778,
              "#fb9f3a"
             ],
             [
              0.8888888888888888,
              "#fdca26"
             ],
             [
              1,
              "#f0f921"
             ]
            ],
            "type": "surface"
           }
          ],
          "table": [
           {
            "cells": {
             "fill": {
              "color": "#EBF0F8"
             },
             "line": {
              "color": "white"
             }
            },
            "header": {
             "fill": {
              "color": "#C8D4E3"
             },
             "line": {
              "color": "white"
             }
            },
            "type": "table"
           }
          ]
         },
         "layout": {
          "annotationdefaults": {
           "arrowcolor": "#2a3f5f",
           "arrowhead": 0,
           "arrowwidth": 1
          },
          "autotypenumbers": "strict",
          "coloraxis": {
           "colorbar": {
            "outlinewidth": 0,
            "ticks": ""
           }
          },
          "colorscale": {
           "diverging": [
            [
             0,
             "#8e0152"
            ],
            [
             0.1,
             "#c51b7d"
            ],
            [
             0.2,
             "#de77ae"
            ],
            [
             0.3,
             "#f1b6da"
            ],
            [
             0.4,
             "#fde0ef"
            ],
            [
             0.5,
             "#f7f7f7"
            ],
            [
             0.6,
             "#e6f5d0"
            ],
            [
             0.7,
             "#b8e186"
            ],
            [
             0.8,
             "#7fbc41"
            ],
            [
             0.9,
             "#4d9221"
            ],
            [
             1,
             "#276419"
            ]
           ],
           "sequential": [
            [
             0,
             "#0d0887"
            ],
            [
             0.1111111111111111,
             "#46039f"
            ],
            [
             0.2222222222222222,
             "#7201a8"
            ],
            [
             0.3333333333333333,
             "#9c179e"
            ],
            [
             0.4444444444444444,
             "#bd3786"
            ],
            [
             0.5555555555555556,
             "#d8576b"
            ],
            [
             0.6666666666666666,
             "#ed7953"
            ],
            [
             0.7777777777777778,
             "#fb9f3a"
            ],
            [
             0.8888888888888888,
             "#fdca26"
            ],
            [
             1,
             "#f0f921"
            ]
           ],
           "sequentialminus": [
            [
             0,
             "#0d0887"
            ],
            [
             0.1111111111111111,
             "#46039f"
            ],
            [
             0.2222222222222222,
             "#7201a8"
            ],
            [
             0.3333333333333333,
             "#9c179e"
            ],
            [
             0.4444444444444444,
             "#bd3786"
            ],
            [
             0.5555555555555556,
             "#d8576b"
            ],
            [
             0.6666666666666666,
             "#ed7953"
            ],
            [
             0.7777777777777778,
             "#fb9f3a"
            ],
            [
             0.8888888888888888,
             "#fdca26"
            ],
            [
             1,
             "#f0f921"
            ]
           ]
          },
          "colorway": [
           "#636efa",
           "#EF553B",
           "#00cc96",
           "#ab63fa",
           "#FFA15A",
           "#19d3f3",
           "#FF6692",
           "#B6E880",
           "#FF97FF",
           "#FECB52"
          ],
          "font": {
           "color": "#2a3f5f"
          },
          "geo": {
           "bgcolor": "white",
           "lakecolor": "white",
           "landcolor": "#E5ECF6",
           "showlakes": true,
           "showland": true,
           "subunitcolor": "white"
          },
          "hoverlabel": {
           "align": "left"
          },
          "hovermode": "closest",
          "mapbox": {
           "style": "light"
          },
          "paper_bgcolor": "white",
          "plot_bgcolor": "#E5ECF6",
          "polar": {
           "angularaxis": {
            "gridcolor": "white",
            "linecolor": "white",
            "ticks": ""
           },
           "bgcolor": "#E5ECF6",
           "radialaxis": {
            "gridcolor": "white",
            "linecolor": "white",
            "ticks": ""
           }
          },
          "scene": {
           "xaxis": {
            "backgroundcolor": "#E5ECF6",
            "gridcolor": "white",
            "gridwidth": 2,
            "linecolor": "white",
            "showbackground": true,
            "ticks": "",
            "zerolinecolor": "white"
           },
           "yaxis": {
            "backgroundcolor": "#E5ECF6",
            "gridcolor": "white",
            "gridwidth": 2,
            "linecolor": "white",
            "showbackground": true,
            "ticks": "",
            "zerolinecolor": "white"
           },
           "zaxis": {
            "backgroundcolor": "#E5ECF6",
            "gridcolor": "white",
            "gridwidth": 2,
            "linecolor": "white",
            "showbackground": true,
            "ticks": "",
            "zerolinecolor": "white"
           }
          },
          "shapedefaults": {
           "line": {
            "color": "#2a3f5f"
           }
          },
          "ternary": {
           "aaxis": {
            "gridcolor": "white",
            "linecolor": "white",
            "ticks": ""
           },
           "baxis": {
            "gridcolor": "white",
            "linecolor": "white",
            "ticks": ""
           },
           "bgcolor": "#E5ECF6",
           "caxis": {
            "gridcolor": "white",
            "linecolor": "white",
            "ticks": ""
           }
          },
          "title": {
           "x": 0.05
          },
          "xaxis": {
           "automargin": true,
           "gridcolor": "white",
           "linecolor": "white",
           "ticks": "",
           "title": {
            "standoff": 15
           },
           "zerolinecolor": "white",
           "zerolinewidth": 2
          },
          "yaxis": {
           "automargin": true,
           "gridcolor": "white",
           "linecolor": "white",
           "ticks": "",
           "title": {
            "standoff": 15
           },
           "zerolinecolor": "white",
           "zerolinewidth": 2
          }
         }
        },
        "title": {
         "text": "Daily Price with Monthly Average Price"
        },
        "xaxis": {
         "anchor": "y",
         "domain": [
          0,
          1
         ],
         "title": {
          "text": "index"
         }
        },
        "yaxis": {
         "anchor": "x",
         "domain": [
          0,
          1
         ],
         "title": {
          "text": "value"
         }
        }
       }
      }
     },
     "metadata": {},
     "output_type": "display_data"
    }
   ],
   "source": [
    "import plotly.express as px\n",
    "\n",
    "eth_data['rolling_mean_30'] = eth_data['Close'].rolling(window=30).mean()\n",
    "eth_data['rolling_std_30'] = eth_data['Close'].rolling(window=30).std()\n",
    "\n",
    "fig = px.line(eth_data,\n",
    "              x=eth_data.index,\n",
    "              y=['Close', 'rolling_mean_30'],\n",
    "              title='Daily Price with Monthly Average Price',\n",
    "              labels={'Close': 'Daily Price', 'rolling_mean_30': 'Monthly Average Price'})\n",
    "fig.show()"
   ]
  },
  {
   "cell_type": "code",
   "execution_count": 33,
   "id": "57a0137e",
   "metadata": {},
   "outputs": [
    {
     "data": {
      "application/vnd.plotly.v1+json": {
       "config": {
        "plotlyServerURL": "https://plot.ly"
       },
       "data": [
        {
         "hovertemplate": "index=%{x}<br>rolling_std_30=%{y}<extra></extra>",
         "legendgroup": "",
         "line": {
          "color": "#636efa",
          "dash": "solid"
         },
         "marker": {
          "symbol": "circle"
         },
         "mode": "lines",
         "name": "",
         "showlegend": false,
         "type": "scattergl",
         "x": {
          "bdata": "AAABAAIAAwAEAAUABgAHAAgACQAKAAsADAANAA4ADwAQABEAEgATABQAFQAWABcAGAAZABoAGwAcAB0AHgAfACAAIQAiACMAJAAlACYAJwAoACkAKgArACwALQAuAC8AMAAxADIAMwA0ADUANgA3ADgAOQA6ADsAPAA9AD4APwBAAEEAQgBDAEQARQBGAEcASABJAEoASwBMAE0ATgBPAFAAUQBSAFMAVABVAFYAVwBYAFkAWgBbAFwAXQBeAF8AYABhAGIAYwBkAGUAZgBnAGgAaQBqAGsAbABtAG4AbwBwAHEAcgBzAHQAdQB2AHcAeAB5AHoAewB8AH0AfgB/AIAAgQCCAIMAhACFAIYAhwCIAIkAigCLAIwAjQCOAI8AkACRAJIAkwCUAJUAlgCXAJgAmQCaAJsAnACdAJ4AnwCgAKEAogCjAKQApQCmAKcAqACpAKoAqwCsAK0ArgCvALAAsQCyALMAtAC1ALYAtwC4ALkAugC7ALwAvQC+AL8AwADBAMIAwwDEAMUAxgDHAMgAyQDKAMsAzADNAM4AzwDQANEA0gDTANQA1QDWANcA2ADZANoA2wDcAN0A3gDfAOAA4QDiAOMA5ADlAOYA5wDoAOkA6gDrAOwA7QDuAO8A8ADxAPIA8wD0APUA9gD3APgA+QD6APsA/AD9AP4A/wAAAQEBAgEDAQQBBQEGAQcBCAEJAQoBCwEMAQ0BDgEPARABEQESARMBFAEVARYBFwEYARkBGgEbARwBHQEeAR8BIAEhASIBIwEkASUBJgEnASgBKQEqASsBLAEtAS4BLwEwATEBMgEzATQBNQE2ATcBOAE5AToBOwE8AT0BPgE/AUABQQFCAUMBRAFFAUYBRwFIAUkBSgFLAUwBTQFOAU8BUAFRAVIBUwFUAVUBVgFXAVgBWQFaAVsBXAFdAV4BXwFgAWEBYgFjAWQBZQFmAWcBaAFpAWoBawFsAW0BbgFvAXABcQFyAXMBdAF1AXYBdwF4AXkBegF7AXwBfQF+AX8BgAGBAYIBgwGEAYUBhgGHAYgBiQGKAYsBjAGNAY4BjwGQAZEBkgGTAZQBlQGWAZcBmAGZAZoBmwGcAZ0BngGfAaABoQGiAaMBpAGlAaYBpwGoAakBqgGrAawBrQGuAa8BsAGxAbIBswG0AbUBtgG3AbgBuQG6AbsBvAG9Ab4BvwHAAcEBwgHDAcQBxQHGAccByAHJAcoBywHMAc0BzgHPAdAB0QHSAdMB1AHVAdYB1wHYAdkB2gHbAdwB3QHeAd8B4AHhAeIB4wHkAeUB5gHnAegB6QHqAesB7AHtAe4B7wHwAfEB8gHzAfQB9QH2AfcB+AH5AfoB+wH8Af0B/gH/AQACAQICAgMCBAIFAgYCBwIIAgkCCgILAgwCDQIOAg8CEAIRAhICEwIUAhUCFgIXAhgCGQIaAhsCHAIdAh4CHwIgAiECIgIjAiQCJQImAicCKAIpAioCKwIsAi0CLgIvAjACMQIyAjMCNAI1AjYCNwI4AjkCOgI7AjwCPQI+Aj8CQAJBAkICQwJEAkUCRgJHAkgCSQJKAksCTAJNAk4CTwJQAlECUgJTAlQCVQJWAlcCWAJZAloCWwJcAl0CXgJfAmACYQJiAmMCZAJlAmYCZwJoAmkCagJrAmwCbQJuAm8CcAJxAnICcwJ0AnUCdgJ3AngCeQJ6AnsCfAJ9An4CfwKAAoECggKDAoQChQKGAocCiAKJAooCiwKMAo0CjgKPApACkQKSApMClAKVApYClwKYApkCmgKbApwCnQKeAp8CoAKhAqICowKkAqUCpgKnAqgCqQKqAqsCrAKtAq4CrwKwArECsgKzArQCtQK2ArcCuAK5AroCuwK8Ar0CvgK/AsACwQLCAsMCxALFAsYCxwLIAskCygLLAswCzQLOAs8C0ALRAtIC0wLUAtUC1gLXAtgC2QLaAtsC3ALdAt4C3wLgAuEC4gLjAuQC5QLmAucC6ALpAuoC6wLsAu0C7gLvAvAC8QLyAvMC9AL1AvYC9wL4AvkC+gL7AvwC/QL+Av8CAAMBAwIDAwMEAwUDBgMHAwgDCQMKAwsDDAMNAw4DDwMQAxEDEgMTAxQDFQMWAxcDGAMZAxoDGwMcAx0DHgMfAyADIQMiAyMDJAMlAyYDJwMoAykDKgMrAywDLQMuAy8DMAMxAzIDMwM0AzUDNgM3AzgDOQM6AzsDPAM9Az4DPwNAA0EDQgNDA0QDRQNGA0cDSANJA0oDSwNMA00DTgNPA1ADUQNSA1MDVANVA1YDVwNYA1kDWgNbA1wDXQNeA18DYANhA2IDYwNkA2UDZgNnA2gDaQNqA2sDbANtA24DbwNwA3EDcgNzA3QDdQN2A3cDeAN5A3oDewN8A30DfgN/A4ADgQOCA4MDhAOFA4YDhwOIA4kDigOLA4wDjQOOA48DkAORA5IDkwOUA5UDlgOXA5gDmQOaA5sDnAOdA54DnwOgA6EDogOjA6QDpQOmA6cDqAOpA6oDqwOsA60DrgOvA7ADsQOyA7MDtAO1A7YDtwO4A7kDugO7A7wDvQO+A78DwAPBA8IDwwPEA8UDxgPHA8gDyQPKA8sDzAPNA84DzwPQA9ED0gPTA9QD1QPWA9cD2APZA9oD2wPcA90D3gPfA+AD4QPiA+MD5APlA+YD5wPoA+kD6gPrA+wD7QPuA+8D8APxA/ID8wP0A/UD9gP3A/gD+QP6A/sD/AP9A/4D/wMABAEEAgQDBAQEBQQGBAcECAQJBAoECwQMBA0EDgQPBBAEEQQSBBMEFAQVBBYEFwQYBBkEGgQbBBwEHQQeBB8EIAQhBCIEIwQkBCUEJgQnBCgEKQQqBCsELAQtBC4ELwQwBDEEMgQzBDQENQQ2BDcEOAQ5BDoEOwQ8BD0EPgQ/BEAEQQRCBEMERARFBEYERwRIBEkESgRLBEwETQROBE8EUARRBFIEUwRUBFUEVgRXBFgEWQRaBFsEXARdBF4EXwRgBGEEYgRjBGQEZQRmBGcEaARpBGoEawRsBG0EbgRvBHAEcQRyBHMEdAR1BHYEdwR4BHkEegR7BHwEfQR+BH8EgASBBIIEgwSEBIUEhgSHBIgEiQSKBIsEjASNBI4EjwSQBJEEkgSTBJQElQSWBJcEmASZBJoEmwScBJ0EngSfBKAEoQSiBKMEpASlBKYEpwSoBKkEqgSrBKwErQSuBK8EsASxBLIEswS0BLUEtgS3BLgEuQS6BLsEvAS9BL4EvwTABMEEwgTDBMQExQTGBMcEyATJBMoEywTMBM0EzgTPBNAE0QTSBNME1ATVBNYE1wTYBNkE2gTbBNwE3QTeBN8E4AThBOIE4wTkBOUE5gTnBOgE6QTqBOsE7ATtBO4E7wTwBPEE8gTzBPQE9QT2BPcE+AT5BPoE+wT8BP0E/gT/BAAFAQUCBQMFBAUFBQYFBwUIBQkFCgULBQwFDQUOBQ8FEAURBRIFEwUUBRUFFgUXBRgFGQUaBRsFHAUdBR4FHwUgBSEFIgUjBSQFJQUmBScFKAUpBSoFKwUsBS0FLgUvBTAFMQUyBTMFNAU1BTYFNwU4BTkFOgU7BTwFPQU+BT8FQAVBBUIFQwVEBUUFRgVHBUgFSQVKBUsFTAVNBU4FTwVQBVEFUgVTBVQFVQVWBVcFWAVZBVoFWwVcBV0FXgVfBWAFYQViBWMFZAVlBWYFZwVoBWkFagVrBWwFbQVuBW8FcAVxBXIFcwV0BXUFdgV3BXgFeQV6BXsFfAV9BX4FfwWABYEFggWDBYQFhQWGBYcFiAWJBYoFiwWMBY0FjgWPBZAFkQWSBZMFlAWVBZYFlwWYBZkFmgWbBZwFnQWeBZ8FoAWhBaIFowWkBaUFpgWnBagFqQWqBasFrAWtBa4FrwWwBbEFsgWzBbQFtQW2BbcFuAW5BboFuwW8Bb0FvgW/BcAFwQXCBcMFxAXFBcYFxwXIBckFygXLBcwFzQXOBc8F0AXRBdIF0wXUBdUF1gXXBdgF2QXaBdsF3AXdBd4F3wXgBeEF4gXjBeQF5QXmBecF6AXpBeoF6wXsBe0F7gXvBfAF8QXyBfMF9AX1BfYF9wX4BfkF+gX7BfwF/QX+Bf8FAAYBBgIGAwYEBgUGBgYHBggGCQYKBgsGDAYNBg4GDwYQBhEGEgYTBhQGFQYWBhcGGAYZBhoGGwYcBh0GHgYfBiAGIQYiBiMGJAYlBiYGJwYoBikGKgYrBiwGLQYuBi8GMAYxBjIGMwY0BjUGNgY3BjgGOQY6BjsGPAY9Bj4GPwZABkEGQgZDBkQGRQZGBkcGSAZJBkoGSwZMBk0GTgZPBlAGUQZSBlMGVAZVBlYGVwZYBlkGWgZbBlwGXQZeBl8GYAZhBmIGYwZkBmUGZgZnBmgGaQZqBmsGbAZtBm4GbwZwBnEGcgZzBnQGdQZ2BncGeAZ5BnoGewZ8Bn0GfgZ/BoAGgQaCBoMGhAaFBoYGhwaIBokGigaLBowGjQaOBo8GkAaRBpIGkwaUBpUGlgaXBpgGmQaaBpsGnAadBp4GnwagBqEGogajBqQGpQamBqcGqAapBqoGqwasBq0GrgavBrAGsQayBrMGtAa1BrYGtwa4BrkGuga7BrwGvQa+Br8GwAbBBsIGwwbEBsUGxgbHBsgGyQbKBssGzAbNBs4GzwbQBtEG0gbTBtQG1QbWBtcG2AbZBtoG2wbcBt0G3gbfBuAG4QbiBuMG5AblBuYG5wboBukG6gbrBuwG7QbuBu8G8AbxBvIG8wb0BvUG9gb3BvgG+Qb6BvsG/Ab9Bv4G/wYABwEHAgcDBwQHBQcGBwcHCAcJBwoHCwcMBw0HDgcPBxAHEQcSBxMHFAcVBxYHFwcYBxkHGgcbBxwHHQceBx8HIAchByIHIwckByUHJgcnBygHKQcqBysHLActBy4HLwcwBzEHMgczBzQHNQc2BzcHOAc5BzoHOwc8Bz0HPgc/B0AHQQdCB0MHRAdFB0YHRwdIB0kHSgdLB0wHTQdOB08HUAdRB1IHUwdUB1UHVgdXB1gHWQdaB1sHXAddB14HXwdgB2EHYgdjB2QHZQdmB2cHaAdpB2oHawdsB20HbgdvB3AHcQdyB3MHdAd1B3YHdwd4B3kHegd7B3wHfQd+B38HgAeBB4IHgweEB4UHhgeHB4gHiQeKB4sHjAeNB44HjweQB5EHkgeTB5QHlQeWB5cHmAeZB5oHmwecB50HngefB6AHoQeiB6MHpAelB6YHpweoB6kHqgerB6wHrQeuB68HsAexB7IHswe0B7UHtge3B7gHuQe6B7sHvAe9B74HvwfAB8EHwgfDB8QHxQfGB8cHyAfJB8oHywfMB80HzgfPB9AH0QfSB9MH1AfVB9YH1wfYB9kH2gfbB9wH3QfeB98H4AfhB+IH4wfkB+UH5gfnB+gH6QfqB+sH7AftB+4H7wfwB/EH8gfzB/QH9Qf2B/cH+Af5B/oH+wf8B/0H/gf/BwAIAQgCCAMIBAgFCAYIBwgICAkICggLCAwIDQgOCA8IEAgRCBIIEwgUCBUIFggXCBgIGQgaCBsIHAgdCB4IHwggCCEIIggjCCQIJQgmCCcIKAgpCCoIKwgsCC0ILggvCDAIMQgyCDMINAg1CDYINwg4CDkIOgg7CDwIPQg+CD8IQAhBCEIIQwhECEUIRghHCEgISQhKCEsITAhNCE4ITwhQCFEIUghTCFQIVQhWCFcIWAhZCFoIWwhcCF0IXghfCGAIYQhiCGMIZAhlCGYIZwhoCGkIaghrCGwIbQhuCG8IcAhxCHIIcwh0CHUIdgh3CHgIeQh6CHsIfAh9CH4IfwiACIEIggiDCIQIhQiGCIcIiAiJCIoIiwiMCI0IjgiPCJAIkQiSCJMIlAiVCJYIlwiYCJkImgibCJwInQieCJ8IoAihCKIIowikCKUIpginCKgIqQiqCKsIrAitCK4IrwiwCLEIsgizCLQItQi2CLcIuAi5CLoIuwi8CL0Ivgi/CMAIwQjCCMMIxAjFCMYIxwjICMkIygjLCMwIzQjOCM8I0AjRCNII0wjUCNUI1gjXCNgI2QjaCNsI3AjdCN4I3wjgCOEI4gjjCOQI5QjmCOcI6AjpCOoI6wjsCO0I7gjvCPAI8QjyCPMI9Aj1CPYI9wj4CPkI+gj7CPwI/Qj+CP8IAAkBCQIJAwkECQUJBgkHCQgJCQkKCQsJDAkNCQ4JDwkQCREJEgkTCRQJFQkWCRcJGAkZCRoJGwkcCR0JHgkfCSAJIQkiCSMJJAklCSYJJwkoCSkJKgkrCSwJLQkuCS8JMAkxCTIJMwk0CTUJNgk3CTgJOQk6CTsJPAk9CT4JPwlACUEJQglDCUQJRQlGCUcJSAlJCUoJSwlMCU0JTglPCVAJUQlSCVMJVAlVCVYJVwlYCVkJWglbCVwJXQleCV8JYAlhCWIJYwlkCWUJZglnCWgJaQlqCWsJbAltCW4JbwlwCXEJcglzCXQJdQl2CXcJeAl5CXoJewl8CX0Jfgl/CYAJgQmCCYMJhAmFCYYJhwmICYkJigmLCYwJjQmOCY8JkAmRCZIJkwmUCZUJlgmXCZgJmQmaCZsJnAmdCZ4JnwmgCaEJogmjCaQJpQmmCacJqAmpCaoJqwmsCa0JrgmvCbAJsQmyCbMJtAm1CbYJtwm4CbkJugm7CbwJvQm+Cb8JwAnBCcIJwwnECcUJxgnHCcgJyQnKCcsJzAnNCc4JzwnQCdEJ0gnTCdQJ1QnWCdcJ2AnZCdoJ2wncCd0J3gnfCeAJ4QniCeMJ5AnlCeYJ5wnoCekJ6gnrCewJ7QnuCe8J8AnxCfIJ8wn0CfUJ9gn3CfgJ+Qn6CfsJ/An9Cf4J/wkACgEKAgoDCgQKBQoGCgcKCAoJCgoKCwoMCg0KDgoPChAKEQoSChMKFAoVChYKFwoYChkKGgobChwKHQoeCh8KIAohCiIKIwokCiUKJgonCigKKQoqCisKLAotCi4KLwowCg==",
          "dtype": "i2"
         },
         "xaxis": "x",
         "y": {
          "bdata": "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",
          "dtype": "f8"
         },
         "yaxis": "y"
        }
       ],
       "layout": {
        "legend": {
         "tracegroupgap": 0
        },
        "template": {
         "data": {
          "bar": [
           {
            "error_x": {
             "color": "#2a3f5f"
            },
            "error_y": {
             "color": "#2a3f5f"
            },
            "marker": {
             "line": {
              "color": "#E5ECF6",
              "width": 0.5
             },
             "pattern": {
              "fillmode": "overlay",
              "size": 10,
              "solidity": 0.2
             }
            },
            "type": "bar"
           }
          ],
          "barpolar": [
           {
            "marker": {
             "line": {
              "color": "#E5ECF6",
              "width": 0.5
             },
             "pattern": {
              "fillmode": "overlay",
              "size": 10,
              "solidity": 0.2
             }
            },
            "type": "barpolar"
           }
          ],
          "carpet": [
           {
            "aaxis": {
             "endlinecolor": "#2a3f5f",
             "gridcolor": "white",
             "linecolor": "white",
             "minorgridcolor": "white",
             "startlinecolor": "#2a3f5f"
            },
            "baxis": {
             "endlinecolor": "#2a3f5f",
             "gridcolor": "white",
             "linecolor": "white",
             "minorgridcolor": "white",
             "startlinecolor": "#2a3f5f"
            },
            "type": "carpet"
           }
          ],
          "choropleth": [
           {
            "colorbar": {
             "outlinewidth": 0,
             "ticks": ""
            },
            "type": "choropleth"
           }
          ],
          "contour": [
           {
            "colorbar": {
             "outlinewidth": 0,
             "ticks": ""
            },
            "colorscale": [
             [
              0,
              "#0d0887"
             ],
             [
              0.1111111111111111,
              "#46039f"
             ],
             [
              0.2222222222222222,
              "#7201a8"
             ],
             [
              0.3333333333333333,
              "#9c179e"
             ],
             [
              0.4444444444444444,
              "#bd3786"
             ],
             [
              0.5555555555555556,
              "#d8576b"
             ],
             [
              0.6666666666666666,
              "#ed7953"
             ],
             [
              0.7777777777777778,
              "#fb9f3a"
             ],
             [
              0.8888888888888888,
              "#fdca26"
             ],
             [
              1,
              "#f0f921"
             ]
            ],
            "type": "contour"
           }
          ],
          "contourcarpet": [
           {
            "colorbar": {
             "outlinewidth": 0,
             "ticks": ""
            },
            "type": "contourcarpet"
           }
          ],
          "heatmap": [
           {
            "colorbar": {
             "outlinewidth": 0,
             "ticks": ""
            },
            "colorscale": [
             [
              0,
              "#0d0887"
             ],
             [
              0.1111111111111111,
              "#46039f"
             ],
             [
              0.2222222222222222,
              "#7201a8"
             ],
             [
              0.3333333333333333,
              "#9c179e"
             ],
             [
              0.4444444444444444,
              "#bd3786"
             ],
             [
              0.5555555555555556,
              "#d8576b"
             ],
             [
              0.6666666666666666,
              "#ed7953"
             ],
             [
              0.7777777777777778,
              "#fb9f3a"
             ],
             [
              0.8888888888888888,
              "#fdca26"
             ],
             [
              1,
              "#f0f921"
             ]
            ],
            "type": "heatmap"
           }
          ],
          "histogram": [
           {
            "marker": {
             "pattern": {
              "fillmode": "overlay",
              "size": 10,
              "solidity": 0.2
             }
            },
            "type": "histogram"
           }
          ],
          "histogram2d": [
           {
            "colorbar": {
             "outlinewidth": 0,
             "ticks": ""
            },
            "colorscale": [
             [
              0,
              "#0d0887"
             ],
             [
              0.1111111111111111,
              "#46039f"
             ],
             [
              0.2222222222222222,
              "#7201a8"
             ],
             [
              0.3333333333333333,
              "#9c179e"
             ],
             [
              0.4444444444444444,
              "#bd3786"
             ],
             [
              0.5555555555555556,
              "#d8576b"
             ],
             [
              0.6666666666666666,
              "#ed7953"
             ],
             [
              0.7777777777777778,
              "#fb9f3a"
             ],
             [
              0.8888888888888888,
              "#fdca26"
             ],
             [
              1,
              "#f0f921"
             ]
            ],
            "type": "histogram2d"
           }
          ],
          "histogram2dcontour": [
           {
            "colorbar": {
             "outlinewidth": 0,
             "ticks": ""
            },
            "colorscale": [
             [
              0,
              "#0d0887"
             ],
             [
              0.1111111111111111,
              "#46039f"
             ],
             [
              0.2222222222222222,
              "#7201a8"
             ],
             [
              0.3333333333333333,
              "#9c179e"
             ],
             [
              0.4444444444444444,
              "#bd3786"
             ],
             [
              0.5555555555555556,
              "#d8576b"
             ],
             [
              0.6666666666666666,
              "#ed7953"
             ],
             [
              0.7777777777777778,
              "#fb9f3a"
             ],
             [
              0.8888888888888888,
              "#fdca26"
             ],
             [
              1,
              "#f0f921"
             ]
            ],
            "type": "histogram2dcontour"
           }
          ],
          "mesh3d": [
           {
            "colorbar": {
             "outlinewidth": 0,
             "ticks": ""
            },
            "type": "mesh3d"
           }
          ],
          "parcoords": [
           {
            "line": {
             "colorbar": {
              "outlinewidth": 0,
              "ticks": ""
             }
            },
            "type": "parcoords"
           }
          ],
          "pie": [
           {
            "automargin": true,
            "type": "pie"
           }
          ],
          "scatter": [
           {
            "fillpattern": {
             "fillmode": "overlay",
             "size": 10,
             "solidity": 0.2
            },
            "type": "scatter"
           }
          ],
          "scatter3d": [
           {
            "line": {
             "colorbar": {
              "outlinewidth": 0,
              "ticks": ""
             }
            },
            "marker": {
             "colorbar": {
              "outlinewidth": 0,
              "ticks": ""
             }
            },
            "type": "scatter3d"
           }
          ],
          "scattercarpet": [
           {
            "marker": {
             "colorbar": {
              "outlinewidth": 0,
              "ticks": ""
             }
            },
            "type": "scattercarpet"
           }
          ],
          "scattergeo": [
           {
            "marker": {
             "colorbar": {
              "outlinewidth": 0,
              "ticks": ""
             }
            },
            "type": "scattergeo"
           }
          ],
          "scattergl": [
           {
            "marker": {
             "colorbar": {
              "outlinewidth": 0,
              "ticks": ""
             }
            },
            "type": "scattergl"
           }
          ],
          "scattermap": [
           {
            "marker": {
             "colorbar": {
              "outlinewidth": 0,
              "ticks": ""
             }
            },
            "type": "scattermap"
           }
          ],
          "scattermapbox": [
           {
            "marker": {
             "colorbar": {
              "outlinewidth": 0,
              "ticks": ""
             }
            },
            "type": "scattermapbox"
           }
          ],
          "scatterpolar": [
           {
            "marker": {
             "colorbar": {
              "outlinewidth": 0,
              "ticks": ""
             }
            },
            "type": "scatterpolar"
           }
          ],
          "scatterpolargl": [
           {
            "marker": {
             "colorbar": {
              "outlinewidth": 0,
              "ticks": ""
             }
            },
            "type": "scatterpolargl"
           }
          ],
          "scatterternary": [
           {
            "marker": {
             "colorbar": {
              "outlinewidth": 0,
              "ticks": ""
             }
            },
            "type": "scatterternary"
           }
          ],
          "surface": [
           {
            "colorbar": {
             "outlinewidth": 0,
             "ticks": ""
            },
            "colorscale": [
             [
              0,
              "#0d0887"
             ],
             [
              0.1111111111111111,
              "#46039f"
             ],
             [
              0.2222222222222222,
              "#7201a8"
             ],
             [
              0.3333333333333333,
              "#9c179e"
             ],
             [
              0.4444444444444444,
              "#bd3786"
             ],
             [
              0.5555555555555556,
              "#d8576b"
             ],
             [
              0.6666666666666666,
              "#ed7953"
             ],
             [
              0.7777777777777778,
              "#fb9f3a"
             ],
             [
              0.8888888888888888,
              "#fdca26"
             ],
             [
              1,
              "#f0f921"
             ]
            ],
            "type": "surface"
           }
          ],
          "table": [
           {
            "cells": {
             "fill": {
              "color": "#EBF0F8"
             },
             "line": {
              "color": "white"
             }
            },
            "header": {
             "fill": {
              "color": "#C8D4E3"
             },
             "line": {
              "color": "white"
             }
            },
            "type": "table"
           }
          ]
         },
         "layout": {
          "annotationdefaults": {
           "arrowcolor": "#2a3f5f",
           "arrowhead": 0,
           "arrowwidth": 1
          },
          "autotypenumbers": "strict",
          "coloraxis": {
           "colorbar": {
            "outlinewidth": 0,
            "ticks": ""
           }
          },
          "colorscale": {
           "diverging": [
            [
             0,
             "#8e0152"
            ],
            [
             0.1,
             "#c51b7d"
            ],
            [
             0.2,
             "#de77ae"
            ],
            [
             0.3,
             "#f1b6da"
            ],
            [
             0.4,
             "#fde0ef"
            ],
            [
             0.5,
             "#f7f7f7"
            ],
            [
             0.6,
             "#e6f5d0"
            ],
            [
             0.7,
             "#b8e186"
            ],
            [
             0.8,
             "#7fbc41"
            ],
            [
             0.9,
             "#4d9221"
            ],
            [
             1,
             "#276419"
            ]
           ],
           "sequential": [
            [
             0,
             "#0d0887"
            ],
            [
             0.1111111111111111,
             "#46039f"
            ],
            [
             0.2222222222222222,
             "#7201a8"
            ],
            [
             0.3333333333333333,
             "#9c179e"
            ],
            [
             0.4444444444444444,
             "#bd3786"
            ],
            [
             0.5555555555555556,
             "#d8576b"
            ],
            [
             0.6666666666666666,
             "#ed7953"
            ],
            [
             0.7777777777777778,
             "#fb9f3a"
            ],
            [
             0.8888888888888888,
             "#fdca26"
            ],
            [
             1,
             "#f0f921"
            ]
           ],
           "sequentialminus": [
            [
             0,
             "#0d0887"
            ],
            [
             0.1111111111111111,
             "#46039f"
            ],
            [
             0.2222222222222222,
             "#7201a8"
            ],
            [
             0.3333333333333333,
             "#9c179e"
            ],
            [
             0.4444444444444444,
             "#bd3786"
            ],
            [
             0.5555555555555556,
             "#d8576b"
            ],
            [
             0.6666666666666666,
             "#ed7953"
            ],
            [
             0.7777777777777778,
             "#fb9f3a"
            ],
            [
             0.8888888888888888,
             "#fdca26"
            ],
            [
             1,
             "#f0f921"
            ]
           ]
          },
          "colorway": [
           "#636efa",
           "#EF553B",
           "#00cc96",
           "#ab63fa",
           "#FFA15A",
           "#19d3f3",
           "#FF6692",
           "#B6E880",
           "#FF97FF",
           "#FECB52"
          ],
          "font": {
           "color": "#2a3f5f"
          },
          "geo": {
           "bgcolor": "white",
           "lakecolor": "white",
           "landcolor": "#E5ECF6",
           "showlakes": true,
           "showland": true,
           "subunitcolor": "white"
          },
          "hoverlabel": {
           "align": "left"
          },
          "hovermode": "closest",
          "mapbox": {
           "style": "light"
          },
          "paper_bgcolor": "white",
          "plot_bgcolor": "#E5ECF6",
          "polar": {
           "angularaxis": {
            "gridcolor": "white",
            "linecolor": "white",
            "ticks": ""
           },
           "bgcolor": "#E5ECF6",
           "radialaxis": {
            "gridcolor": "white",
            "linecolor": "white",
            "ticks": ""
           }
          },
          "scene": {
           "xaxis": {
            "backgroundcolor": "#E5ECF6",
            "gridcolor": "white",
            "gridwidth": 2,
            "linecolor": "white",
            "showbackground": true,
            "ticks": "",
            "zerolinecolor": "white"
           },
           "yaxis": {
            "backgroundcolor": "#E5ECF6",
            "gridcolor": "white",
            "gridwidth": 2,
            "linecolor": "white",
            "showbackground": true,
            "ticks": "",
            "zerolinecolor": "white"
           },
           "zaxis": {
            "backgroundcolor": "#E5ECF6",
            "gridcolor": "white",
            "gridwidth": 2,
            "linecolor": "white",
            "showbackground": true,
            "ticks": "",
            "zerolinecolor": "white"
           }
          },
          "shapedefaults": {
           "line": {
            "color": "#2a3f5f"
           }
          },
          "ternary": {
           "aaxis": {
            "gridcolor": "white",
            "linecolor": "white",
            "ticks": ""
           },
           "baxis": {
            "gridcolor": "white",
            "linecolor": "white",
            "ticks": ""
           },
           "bgcolor": "#E5ECF6",
           "caxis": {
            "gridcolor": "white",
            "linecolor": "white",
            "ticks": ""
           }
          },
          "title": {
           "x": 0.05
          },
          "xaxis": {
           "automargin": true,
           "gridcolor": "white",
           "linecolor": "white",
           "ticks": "",
           "title": {
            "standoff": 15
           },
           "zerolinecolor": "white",
           "zerolinewidth": 2
          },
          "yaxis": {
           "automargin": true,
           "gridcolor": "white",
           "linecolor": "white",
           "ticks": "",
           "title": {
            "standoff": 15
           },
           "zerolinecolor": "white",
           "zerolinewidth": 2
          }
         }
        },
        "title": {
         "text": "30-Day Rolling Standard Deviation (Volatility)"
        },
        "xaxis": {
         "anchor": "y",
         "domain": [
          0,
          1
         ],
         "title": {
          "text": "index"
         }
        },
        "yaxis": {
         "anchor": "x",
         "domain": [
          0,
          1
         ],
         "title": {
          "text": "rolling_std_30"
         }
        }
       }
      }
     },
     "metadata": {},
     "output_type": "display_data"
    }
   ],
   "source": [
    "px.line(eth_data, x=eth_data.index, y='rolling_std_30', title='30-Day Rolling Standard Deviation (Volatility)')"
   ]
  },
  {
   "cell_type": "code",
   "execution_count": 34,
   "id": "95942aa5",
   "metadata": {},
   "outputs": [
    {
     "data": {
      "application/vnd.plotly.v1+json": {
       "config": {
        "plotlyServerURL": "https://plot.ly"
       },
       "data": [
        {
         "alignmentgroup": "True",
         "hovertemplate": "Close=%{y}<extra></extra>",
         "legendgroup": "",
         "marker": {
          "color": "#636efa"
         },
         "name": "",
         "notched": false,
         "offsetgroup": "",
         "orientation": "v",
         "showlegend": false,
         "type": "box",
         "x0": " ",
         "xaxis": "x",
         "y": {
          "bdata": "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",
          "dtype": "f8"
         },
         "y0": " ",
         "yaxis": "y"
        }
       ],
       "layout": {
        "boxmode": "group",
        "legend": {
         "tracegroupgap": 0
        },
        "template": {
         "data": {
          "bar": [
           {
            "error_x": {
             "color": "#2a3f5f"
            },
            "error_y": {
             "color": "#2a3f5f"
            },
            "marker": {
             "line": {
              "color": "#E5ECF6",
              "width": 0.5
             },
             "pattern": {
              "fillmode": "overlay",
              "size": 10,
              "solidity": 0.2
             }
            },
            "type": "bar"
           }
          ],
          "barpolar": [
           {
            "marker": {
             "line": {
              "color": "#E5ECF6",
              "width": 0.5
             },
             "pattern": {
              "fillmode": "overlay",
              "size": 10,
              "solidity": 0.2
             }
            },
            "type": "barpolar"
           }
          ],
          "carpet": [
           {
            "aaxis": {
             "endlinecolor": "#2a3f5f",
             "gridcolor": "white",
             "linecolor": "white",
             "minorgridcolor": "white",
             "startlinecolor": "#2a3f5f"
            },
            "baxis": {
             "endlinecolor": "#2a3f5f",
             "gridcolor": "white",
             "linecolor": "white",
             "minorgridcolor": "white",
             "startlinecolor": "#2a3f5f"
            },
            "type": "carpet"
           }
          ],
          "choropleth": [
           {
            "colorbar": {
             "outlinewidth": 0,
             "ticks": ""
            },
            "type": "choropleth"
           }
          ],
          "contour": [
           {
            "colorbar": {
             "outlinewidth": 0,
             "ticks": ""
            },
            "colorscale": [
             [
              0,
              "#0d0887"
             ],
             [
              0.1111111111111111,
              "#46039f"
             ],
             [
              0.2222222222222222,
              "#7201a8"
             ],
             [
              0.3333333333333333,
              "#9c179e"
             ],
             [
              0.4444444444444444,
              "#bd3786"
             ],
             [
              0.5555555555555556,
              "#d8576b"
             ],
             [
              0.6666666666666666,
              "#ed7953"
             ],
             [
              0.7777777777777778,
              "#fb9f3a"
             ],
             [
              0.8888888888888888,
              "#fdca26"
             ],
             [
              1,
              "#f0f921"
             ]
            ],
            "type": "contour"
           }
          ],
          "contourcarpet": [
           {
            "colorbar": {
             "outlinewidth": 0,
             "ticks": ""
            },
            "type": "contourcarpet"
           }
          ],
          "heatmap": [
           {
            "colorbar": {
             "outlinewidth": 0,
             "ticks": ""
            },
            "colorscale": [
             [
              0,
              "#0d0887"
             ],
             [
              0.1111111111111111,
              "#46039f"
             ],
             [
              0.2222222222222222,
              "#7201a8"
             ],
             [
              0.3333333333333333,
              "#9c179e"
             ],
             [
              0.4444444444444444,
              "#bd3786"
             ],
             [
              0.5555555555555556,
              "#d8576b"
             ],
             [
              0.6666666666666666,
              "#ed7953"
             ],
             [
              0.7777777777777778,
              "#fb9f3a"
             ],
             [
              0.8888888888888888,
              "#fdca26"
             ],
             [
              1,
              "#f0f921"
             ]
            ],
            "type": "heatmap"
           }
          ],
          "histogram": [
           {
            "marker": {
             "pattern": {
              "fillmode": "overlay",
              "size": 10,
              "solidity": 0.2
             }
            },
            "type": "histogram"
           }
          ],
          "histogram2d": [
           {
            "colorbar": {
             "outlinewidth": 0,
             "ticks": ""
            },
            "colorscale": [
             [
              0,
              "#0d0887"
             ],
             [
              0.1111111111111111,
              "#46039f"
             ],
             [
              0.2222222222222222,
              "#7201a8"
             ],
             [
              0.3333333333333333,
              "#9c179e"
             ],
             [
              0.4444444444444444,
              "#bd3786"
             ],
             [
              0.5555555555555556,
              "#d8576b"
             ],
             [
              0.6666666666666666,
              "#ed7953"
             ],
             [
              0.7777777777777778,
              "#fb9f3a"
             ],
             [
              0.8888888888888888,
              "#fdca26"
             ],
             [
              1,
              "#f0f921"
             ]
            ],
            "type": "histogram2d"
           }
          ],
          "histogram2dcontour": [
           {
            "colorbar": {
             "outlinewidth": 0,
             "ticks": ""
            },
            "colorscale": [
             [
              0,
              "#0d0887"
             ],
             [
              0.1111111111111111,
              "#46039f"
             ],
             [
              0.2222222222222222,
              "#7201a8"
             ],
             [
              0.3333333333333333,
              "#9c179e"
             ],
             [
              0.4444444444444444,
              "#bd3786"
             ],
             [
              0.5555555555555556,
              "#d8576b"
             ],
             [
              0.6666666666666666,
              "#ed7953"
             ],
             [
              0.7777777777777778,
              "#fb9f3a"
             ],
             [
              0.8888888888888888,
              "#fdca26"
             ],
             [
              1,
              "#f0f921"
             ]
            ],
            "type": "histogram2dcontour"
           }
          ],
          "mesh3d": [
           {
            "colorbar": {
             "outlinewidth": 0,
             "ticks": ""
            },
            "type": "mesh3d"
           }
          ],
          "parcoords": [
           {
            "line": {
             "colorbar": {
              "outlinewidth": 0,
              "ticks": ""
             }
            },
            "type": "parcoords"
           }
          ],
          "pie": [
           {
            "automargin": true,
            "type": "pie"
           }
          ],
          "scatter": [
           {
            "fillpattern": {
             "fillmode": "overlay",
             "size": 10,
             "solidity": 0.2
            },
            "type": "scatter"
           }
          ],
          "scatter3d": [
           {
            "line": {
             "colorbar": {
              "outlinewidth": 0,
              "ticks": ""
             }
            },
            "marker": {
             "colorbar": {
              "outlinewidth": 0,
              "ticks": ""
             }
            },
            "type": "scatter3d"
           }
          ],
          "scattercarpet": [
           {
            "marker": {
             "colorbar": {
              "outlinewidth": 0,
              "ticks": ""
             }
            },
            "type": "scattercarpet"
           }
          ],
          "scattergeo": [
           {
            "marker": {
             "colorbar": {
              "outlinewidth": 0,
              "ticks": ""
             }
            },
            "type": "scattergeo"
           }
          ],
          "scattergl": [
           {
            "marker": {
             "colorbar": {
              "outlinewidth": 0,
              "ticks": ""
             }
            },
            "type": "scattergl"
           }
          ],
          "scattermap": [
           {
            "marker": {
             "colorbar": {
              "outlinewidth": 0,
              "ticks": ""
             }
            },
            "type": "scattermap"
           }
          ],
          "scattermapbox": [
           {
            "marker": {
             "colorbar": {
              "outlinewidth": 0,
              "ticks": ""
             }
            },
            "type": "scattermapbox"
           }
          ],
          "scatterpolar": [
           {
            "marker": {
             "colorbar": {
              "outlinewidth": 0,
              "ticks": ""
             }
            },
            "type": "scatterpolar"
           }
          ],
          "scatterpolargl": [
           {
            "marker": {
             "colorbar": {
              "outlinewidth": 0,
              "ticks": ""
             }
            },
            "type": "scatterpolargl"
           }
          ],
          "scatterternary": [
           {
            "marker": {
             "colorbar": {
              "outlinewidth": 0,
              "ticks": ""
             }
            },
            "type": "scatterternary"
           }
          ],
          "surface": [
           {
            "colorbar": {
             "outlinewidth": 0,
             "ticks": ""
            },
            "colorscale": [
             [
              0,
              "#0d0887"
             ],
             [
              0.1111111111111111,
              "#46039f"
             ],
             [
              0.2222222222222222,
              "#7201a8"
             ],
             [
              0.3333333333333333,
              "#9c179e"
             ],
             [
              0.4444444444444444,
              "#bd3786"
             ],
             [
              0.5555555555555556,
              "#d8576b"
             ],
             [
              0.6666666666666666,
              "#ed7953"
             ],
             [
              0.7777777777777778,
              "#fb9f3a"
             ],
             [
              0.8888888888888888,
              "#fdca26"
             ],
             [
              1,
              "#f0f921"
             ]
            ],
            "type": "surface"
           }
          ],
          "table": [
           {
            "cells": {
             "fill": {
              "color": "#EBF0F8"
             },
             "line": {
              "color": "white"
             }
            },
            "header": {
             "fill": {
              "color": "#C8D4E3"
             },
             "line": {
              "color": "white"
             }
            },
            "type": "table"
           }
          ]
         },
         "layout": {
          "annotationdefaults": {
           "arrowcolor": "#2a3f5f",
           "arrowhead": 0,
           "arrowwidth": 1
          },
          "autotypenumbers": "strict",
          "coloraxis": {
           "colorbar": {
            "outlinewidth": 0,
            "ticks": ""
           }
          },
          "colorscale": {
           "diverging": [
            [
             0,
             "#8e0152"
            ],
            [
             0.1,
             "#c51b7d"
            ],
            [
             0.2,
             "#de77ae"
            ],
            [
             0.3,
             "#f1b6da"
            ],
            [
             0.4,
             "#fde0ef"
            ],
            [
             0.5,
             "#f7f7f7"
            ],
            [
             0.6,
             "#e6f5d0"
            ],
            [
             0.7,
             "#b8e186"
            ],
            [
             0.8,
             "#7fbc41"
            ],
            [
             0.9,
             "#4d9221"
            ],
            [
             1,
             "#276419"
            ]
           ],
           "sequential": [
            [
             0,
             "#0d0887"
            ],
            [
             0.1111111111111111,
             "#46039f"
            ],
            [
             0.2222222222222222,
             "#7201a8"
            ],
            [
             0.3333333333333333,
             "#9c179e"
            ],
            [
             0.4444444444444444,
             "#bd3786"
            ],
            [
             0.5555555555555556,
             "#d8576b"
            ],
            [
             0.6666666666666666,
             "#ed7953"
            ],
            [
             0.7777777777777778,
             "#fb9f3a"
            ],
            [
             0.8888888888888888,
             "#fdca26"
            ],
            [
             1,
             "#f0f921"
            ]
           ],
           "sequentialminus": [
            [
             0,
             "#0d0887"
            ],
            [
             0.1111111111111111,
             "#46039f"
            ],
            [
             0.2222222222222222,
             "#7201a8"
            ],
            [
             0.3333333333333333,
             "#9c179e"
            ],
            [
             0.4444444444444444,
             "#bd3786"
            ],
            [
             0.5555555555555556,
             "#d8576b"
            ],
            [
             0.6666666666666666,
             "#ed7953"
            ],
            [
             0.7777777777777778,
             "#fb9f3a"
            ],
            [
             0.8888888888888888,
             "#fdca26"
            ],
            [
             1,
             "#f0f921"
            ]
           ]
          },
          "colorway": [
           "#636efa",
           "#EF553B",
           "#00cc96",
           "#ab63fa",
           "#FFA15A",
           "#19d3f3",
           "#FF6692",
           "#B6E880",
           "#FF97FF",
           "#FECB52"
          ],
          "font": {
           "color": "#2a3f5f"
          },
          "geo": {
           "bgcolor": "white",
           "lakecolor": "white",
           "landcolor": "#E5ECF6",
           "showlakes": true,
           "showland": true,
           "subunitcolor": "white"
          },
          "hoverlabel": {
           "align": "left"
          },
          "hovermode": "closest",
          "mapbox": {
           "style": "light"
          },
          "paper_bgcolor": "white",
          "plot_bgcolor": "#E5ECF6",
          "polar": {
           "angularaxis": {
            "gridcolor": "white",
            "linecolor": "white",
            "ticks": ""
           },
           "bgcolor": "#E5ECF6",
           "radialaxis": {
            "gridcolor": "white",
            "linecolor": "white",
            "ticks": ""
           }
          },
          "scene": {
           "xaxis": {
            "backgroundcolor": "#E5ECF6",
            "gridcolor": "white",
            "gridwidth": 2,
            "linecolor": "white",
            "showbackground": true,
            "ticks": "",
            "zerolinecolor": "white"
           },
           "yaxis": {
            "backgroundcolor": "#E5ECF6",
            "gridcolor": "white",
            "gridwidth": 2,
            "linecolor": "white",
            "showbackground": true,
            "ticks": "",
            "zerolinecolor": "white"
           },
           "zaxis": {
            "backgroundcolor": "#E5ECF6",
            "gridcolor": "white",
            "gridwidth": 2,
            "linecolor": "white",
            "showbackground": true,
            "ticks": "",
            "zerolinecolor": "white"
           }
          },
          "shapedefaults": {
           "line": {
            "color": "#2a3f5f"
           }
          },
          "ternary": {
           "aaxis": {
            "gridcolor": "white",
            "linecolor": "white",
            "ticks": ""
           },
           "baxis": {
            "gridcolor": "white",
            "linecolor": "white",
            "ticks": ""
           },
           "bgcolor": "#E5ECF6",
           "caxis": {
            "gridcolor": "white",
            "linecolor": "white",
            "ticks": ""
           }
          },
          "title": {
           "x": 0.05
          },
          "xaxis": {
           "automargin": true,
           "gridcolor": "white",
           "linecolor": "white",
           "ticks": "",
           "title": {
            "standoff": 15
           },
           "zerolinecolor": "white",
           "zerolinewidth": 2
          },
          "yaxis": {
           "automargin": true,
           "gridcolor": "white",
           "linecolor": "white",
           "ticks": "",
           "title": {
            "standoff": 15
           },
           "zerolinecolor": "white",
           "zerolinewidth": 2
          }
         }
        },
        "title": {
         "text": "Ethereum Closing Price Distribution"
        },
        "xaxis": {
         "anchor": "y",
         "domain": [
          0,
          1
         ]
        },
        "yaxis": {
         "anchor": "x",
         "domain": [
          0,
          1
         ],
         "title": {
          "text": "Close"
         }
        }
       }
      }
     },
     "metadata": {},
     "output_type": "display_data"
    }
   ],
   "source": [
    "px.box(eth_data, y='Close', title='Ethereum Closing Price Distribution')"
   ]
  }
 ],
 "metadata": {
  "kernelspec": {
   "display_name": "Python 3",
   "language": "python",
   "name": "python3"
  },
  "language_info": {
   "codemirror_mode": {
    "name": "ipython",
    "version": 3
   },
   "file_extension": ".py",
   "mimetype": "text/x-python",
   "name": "python",
   "nbconvert_exporter": "python",
   "pygments_lexer": "ipython3",
   "version": "3.11.6"
  }
 },
 "nbformat": 4,
 "nbformat_minor": 5
}
